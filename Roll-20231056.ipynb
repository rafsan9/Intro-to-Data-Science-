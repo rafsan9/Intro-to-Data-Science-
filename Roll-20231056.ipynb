{
 "cells": [
  {
   "cell_type": "markdown",
   "id": "4791bdae",
   "metadata": {},
   "source": [
    "# HOMEWORK-1 [Pandas and NumPy Exercise for Data Analysis]"
   ]
  },
  {
   "cell_type": "markdown",
   "id": "8f92f8b1",
   "metadata": {},
   "source": [
    "# Name: MD. Rafsan Jamil\n",
    "\n",
    "# Roll   : 20231056"
   ]
  },
  {
   "cell_type": "markdown",
   "id": "3a6699b1",
   "metadata": {},
   "source": [
    "# Objective: \n",
    "      1. To learn about numpy and pandas library \n",
    "      2. To learn about numpy excercise\n",
    "      3. To learn about pandas dataframe and series"
   ]
  },
  {
   "cell_type": "markdown",
   "id": "d12efecc",
   "metadata": {},
   "source": [
    "# 1. Numpy Array Exercises "
   ]
  },
  {
   "cell_type": "code",
   "execution_count": 1,
   "id": "b979e189",
   "metadata": {},
   "outputs": [],
   "source": [
    "# import numpy library\n",
    "import numpy as np"
   ]
  },
  {
   "cell_type": "code",
   "execution_count": 5,
   "id": "e19b3bcd",
   "metadata": {},
   "outputs": [
    {
     "data": {
      "text/plain": [
       "array([[0., 0.],\n",
       "       [0., 0.]])"
      ]
     },
     "execution_count": 5,
     "metadata": {},
     "output_type": "execute_result"
    }
   ],
   "source": [
    "# Create a Numpy array filled with all zeros\n",
    "np.zeros((2,2))"
   ]
  },
  {
   "cell_type": "code",
   "execution_count": 26,
   "id": "76927434",
   "metadata": {},
   "outputs": [
    {
     "data": {
      "text/plain": [
       "array([[2, 2],\n",
       "       [2, 2]])"
      ]
     },
     "execution_count": 26,
     "metadata": {},
     "output_type": "execute_result"
    }
   ],
   "source": [
    "# Create a full numpy array\n",
    "np.full((2,2),2)"
   ]
  },
  {
   "cell_type": "code",
   "execution_count": 25,
   "id": "02cde7f0",
   "metadata": {},
   "outputs": [
    {
     "data": {
      "text/plain": [
       "array([[1., 1.],\n",
       "       [1., 1.]])"
      ]
     },
     "execution_count": 25,
     "metadata": {},
     "output_type": "execute_result"
    }
   ],
   "source": [
    "# Create a Numpy array filled with all ones\n",
    "np.ones((2,2))"
   ]
  },
  {
   "cell_type": "code",
   "execution_count": 27,
   "id": "acfaf116",
   "metadata": {},
   "outputs": [
    {
     "name": "stdout",
     "output_type": "stream",
     "text": [
      "[[1 2 3]\n",
      " [4 5 6]\n",
      " [7 8 9]]\n"
     ]
    }
   ],
   "source": [
    "# Combining a one and a two-dimensional NumPy Array\n",
    "# One-dimensional array\n",
    "array1 = np.array([1, 2,3])\n",
    "\n",
    "# Two-dimensional array\n",
    "array2 = np.array([[4, 5, 6],\n",
    "                   [7, 8, 9]])\n",
    "\n",
    "# Reshape array1 to have shape (1, 3)\n",
    "reshaped_array1 = array1.reshape(1, 3)\n",
    "\n",
    "# Concatenate the arrays along axis 0 (rows)\n",
    "combined_array = np.concatenate((reshaped_array1, array2), axis=0)\n",
    "print(combined_array)\n",
    "\n"
   ]
  },
  {
   "cell_type": "code",
   "execution_count": 28,
   "id": "792a4a9f",
   "metadata": {},
   "outputs": [
    {
     "name": "stdout",
     "output_type": "stream",
     "text": [
      "5\n"
     ]
    }
   ],
   "source": [
    "# Counts the number of non-zero values in the array\n",
    "# Example array\n",
    "array = np.array([[1, 0, 3],\n",
    "                  [0, 2, 0],\n",
    "                  [4, 0, 5]])\n",
    "\n",
    "# Count the number of non-zero values\n",
    "count = np.count_nonzero(array)\n",
    "\n",
    "print(count)\n"
   ]
  },
  {
   "cell_type": "markdown",
   "id": "c135025a",
   "metadata": {},
   "source": [
    "# 2. Numpy Matrix Exercises"
   ]
  },
  {
   "cell_type": "code",
   "execution_count": 29,
   "id": "fa5b881a",
   "metadata": {},
   "outputs": [
    {
     "name": "stdout",
     "output_type": "stream",
     "text": [
      "9\n"
     ]
    }
   ],
   "source": [
    "# Get the maximum value from given matrix\n",
    "# Example matrix\n",
    "matrix = np.array([[1, 2, 3],\n",
    "                   [4, 5, 6],\n",
    "                   [7, 8, 9]])\n",
    "\n",
    "# Get the maximum value from the matrix\n",
    "max_value = np.max(matrix)\n",
    "\n",
    "print(max_value)"
   ]
  },
  {
   "cell_type": "code",
   "execution_count": 30,
   "id": "c2d3c0b7",
   "metadata": {},
   "outputs": [
    {
     "name": "stdout",
     "output_type": "stream",
     "text": [
      "1\n"
     ]
    }
   ],
   "source": [
    "# Get the minimum value from given matrix\n",
    "# Example matrix\n",
    "matrix = np.array([[1, 2, 3],\n",
    "                   [4, 5, 6],\n",
    "                   [7, 8, 9]])\n",
    "\n",
    "# Get the minimum value from the matrix\n",
    "min_value = np.min(matrix)\n",
    "\n",
    "print(min_value)"
   ]
  },
  {
   "cell_type": "code",
   "execution_count": 31,
   "id": "1705cf67",
   "metadata": {},
   "outputs": [
    {
     "name": "stdout",
     "output_type": "stream",
     "text": [
      "Number of rows: 3\n",
      "Number of columns: 3\n"
     ]
    }
   ],
   "source": [
    "# Find the number of rows and columns of a given matrix using NumPy\n",
    "# Example matrix\n",
    "matrix = np.array([[1, 2, 3],\n",
    "                   [4, 5, 6],\n",
    "                   [7, 8, 9]])\n",
    "\n",
    "# Get the number of rows and columns of the matrix\n",
    "rows, columns = matrix.shape\n",
    "\n",
    "print(\"Number of rows:\", rows)\n",
    "print(\"Number of columns:\", columns)"
   ]
  },
  {
   "cell_type": "code",
   "execution_count": 32,
   "id": "7baef0a5",
   "metadata": {},
   "outputs": [
    {
     "name": "stdout",
     "output_type": "stream",
     "text": [
      "Addition Result:\n",
      "[[ 8 10 12]\n",
      " [14 16 18]]\n",
      "Subtraction Result:\n",
      "[[-6 -6 -6]\n",
      " [-6 -6 -6]]\n"
     ]
    }
   ],
   "source": [
    "# Adding and Subtracting Matrices in Python\n",
    "# Example matrices\n",
    "matrix1 = np.array([[1, 2, 3],\n",
    "                    [4, 5, 6]])\n",
    "\n",
    "matrix2 = np.array([[7, 8, 9],\n",
    "                    [10, 11, 12]])\n",
    "\n",
    "# Addition of matrices\n",
    "addition_result = matrix1 + matrix2\n",
    "\n",
    "# Subtraction of matrices\n",
    "subtraction_result = matrix1 - matrix2\n",
    "\n",
    "print(\"Addition Result:\")\n",
    "print(addition_result)\n",
    "\n",
    "print(\"Subtraction Result:\")\n",
    "print(subtraction_result)"
   ]
  },
  {
   "cell_type": "code",
   "execution_count": 35,
   "id": "42a848d6",
   "metadata": {},
   "outputs": [
    {
     "name": "stdout",
     "output_type": "stream",
     "text": [
      "Multiplication Result:\n",
      "[[ 58  64]\n",
      " [139 154]]\n"
     ]
    }
   ],
   "source": [
    "# Matrix Multiplication in NumPy\n",
    "# Example matrices\n",
    "matrix1 = np.array([[1, 2, 3],\n",
    "                    [4, 5, 6]])\n",
    "\n",
    "matrix2 = np.array([[7, 8],\n",
    "                    [9, 10],\n",
    "                    [11, 12]])\n",
    "\n",
    "# Matrix multiplication using matmul()\n",
    "multiplication_result = np.matmul(matrix1, matrix2)\n",
    "print(\"Multiplication Result:\")\n",
    "print(multiplication_result)"
   ]
  },
  {
   "cell_type": "code",
   "execution_count": 37,
   "id": "37c3c8c2",
   "metadata": {},
   "outputs": [
    {
     "name": "stdout",
     "output_type": "stream",
     "text": [
      "Array with added row:\n",
      "[[1 2]\n",
      " [5 6]\n",
      " [3 4]]\n",
      "Array with added column:\n",
      "[[1 7 2]\n",
      " [3 8 4]]\n"
     ]
    }
   ],
   "source": [
    "# Ways to add row/columns in numpy array\n",
    "# Example array\n",
    "array = np.array([[1, 2],\n",
    "                  [3, 4]])\n",
    "\n",
    "# Add a row at index 1 using insert()\n",
    "new_row = np.array([5, 6])\n",
    "array_with_row = np.insert(array, 1, new_row, axis=0)\n",
    "\n",
    "print(\"Array with added row:\")\n",
    "print(array_with_row)\n",
    "\n",
    "# Add a column at index 1 using insert()\n",
    "new_column = np.array([7, 8])\n",
    "array_with_column = np.insert(array, 1, new_column, axis=1)\n",
    "\n",
    "print(\"Array with added column:\")\n",
    "print(array_with_column)\n"
   ]
  },
  {
   "cell_type": "code",
   "execution_count": 3,
   "id": "851170e7",
   "metadata": {},
   "outputs": [
    {
     "name": "stdout",
     "output_type": "stream",
     "text": [
      "Eigenvalues:\n",
      "[-0.37228132  5.37228132]\n"
     ]
    }
   ],
   "source": [
    "# Get the eigen values of a matrix\n",
    "# Example matrix\n",
    "matrix = np.array([[1, 2],\n",
    "                   [3, 4]])\n",
    "\n",
    "# Get the eigenvalues of the matrix\n",
    "eigenvalues = np.linalg.eigvals(matrix)\n",
    "\n",
    "print(\"Eigenvalues:\")\n",
    "print(eigenvalues)"
   ]
  },
  {
   "cell_type": "code",
   "execution_count": 4,
   "id": "a70bdc60",
   "metadata": {},
   "outputs": [
    {
     "name": "stdout",
     "output_type": "stream",
     "text": [
      "1: 2\n",
      "2: 2\n",
      "3: 2\n",
      "4: 2\n",
      "5: 1\n"
     ]
    }
   ],
   "source": [
    "#How to count the frequency of unique values in NumPy array?\n",
    "\n",
    "# Create a NumPy array\n",
    "arr = np.array([1, 2, 3, 2, 1, 3, 4, 5, 4])\n",
    "\n",
    "# Get the counts of unique values\n",
    "value_counts = np.bincount(arr)\n",
    "\n",
    "# Print the unique values and their counts\n",
    "for value, count in enumerate(value_counts):\n",
    "    if count > 0:\n",
    "        print(f\"{value}: {count}\")\n"
   ]
  },
  {
   "cell_type": "code",
   "execution_count": 3,
   "id": "95f4f3a1",
   "metadata": {},
   "outputs": [
    {
     "name": "stdout",
     "output_type": "stream",
     "text": [
      "[[-2.   1. ]\n",
      " [ 1.5 -0.5]]\n"
     ]
    }
   ],
   "source": [
    "# How to inverse a matrix using NumPy\n",
    "# Ceate a matrix\n",
    "matrix = np.array([[1, 2], [3, 4]])\n",
    "\n",
    "# inverse matrix\n",
    "inverse_matrix = np.linalg.inv(matrix)\n",
    "\n",
    "print(inverse_matrix)\n"
   ]
  },
  {
   "cell_type": "code",
   "execution_count": 4,
   "id": "2fec5cb9",
   "metadata": {},
   "outputs": [
    {
     "name": "stdout",
     "output_type": "stream",
     "text": [
      "Determinant: -2.0000000000000004\n"
     ]
    }
   ],
   "source": [
    "# How to Calculate the determinant of a matrix using NumPy?\n",
    "\n",
    "# Define a matrix\n",
    "matrix = np.array([[1, 2], [3, 4]])\n",
    "\n",
    "# Calculate the determinant\n",
    "determinant = np.linalg.det(matrix)\n",
    "\n",
    "# Print the determinant\n",
    "print(\"Determinant:\", determinant)\n"
   ]
  },
  {
   "cell_type": "code",
   "execution_count": 5,
   "id": "0c4d66d4",
   "metadata": {},
   "outputs": [
    {
     "name": "stdout",
     "output_type": "stream",
     "text": [
      "Correlation Matrix:\n",
      "[[1.         0.35355339]\n",
      " [0.35355339 1.        ]]\n"
     ]
    }
   ],
   "source": [
    "# Convert covariance matrix to correlation matrix using Python\n",
    "\n",
    "# Define the covariance matrix\n",
    "covariance_matrix = np.array([[1.0, 0.5], [0.5, 2.0]])\n",
    "\n",
    "# Calculate the diagonal matrix of standard deviations\n",
    "standard_deviations = np.sqrt(np.diag(covariance_matrix))\n",
    "\n",
    "# Calculate the inverse of the diagonal matrix of standard deviations\n",
    "inv_standard_deviations = 1.0 / standard_deviations\n",
    "\n",
    "# Calculate the correlation matrix\n",
    "correlation_matrix = covariance_matrix * inv_standard_deviations\n",
    "correlation_matrix = correlation_matrix * inv_standard_deviations[:, np.newaxis]\n",
    "\n",
    "# Print the correlation matrix\n",
    "print(\"Correlation Matrix:\")\n",
    "print(correlation_matrix)\n"
   ]
  },
  {
   "cell_type": "markdown",
   "id": "a761a96e",
   "metadata": {},
   "source": [
    "# 3. Numpy Indexing Exercises"
   ]
  },
  {
   "cell_type": "code",
   "execution_count": 6,
   "id": "a9b10b0b",
   "metadata": {},
   "outputs": [
    {
     "name": "stdout",
     "output_type": "stream",
     "text": [
      "[1 2 3 4 0 0]\n"
     ]
    }
   ],
   "source": [
    "# Replace NumPy array elements that doesn’t satisfy the given condition\n",
    "\n",
    "# Define the array\n",
    "arr = np.array([1, 2, 3, 4, 5, 6])\n",
    "\n",
    "# Replace elements that are greater than 4 with 0\n",
    "arr[arr > 4] = 0\n",
    "\n",
    "# Print the updated array\n",
    "print(arr)\n"
   ]
  },
  {
   "cell_type": "code",
   "execution_count": 3,
   "id": "3283cb04",
   "metadata": {},
   "outputs": [
    {
     "name": "stdout",
     "output_type": "stream",
     "text": [
      "[4 5]\n"
     ]
    }
   ],
   "source": [
    "#Return the indices of elements where the given condition is satisfied\n",
    "\n",
    "# Define the array\n",
    "arr = np.array([1, 2, 3, 4, 5, 6])\n",
    "\n",
    "# Find the indices where elements are greater than 4\n",
    "indices = np.where(arr > 4)[0]\n",
    "\n",
    "# Print the indices\n",
    "print(indices)\n"
   ]
  },
  {
   "cell_type": "code",
   "execution_count": 4,
   "id": "869a8619",
   "metadata": {},
   "outputs": [
    {
     "name": "stdout",
     "output_type": "stream",
     "text": [
      "[0 2 0 4 0]\n"
     ]
    }
   ],
   "source": [
    "#Replace negative value with zero in numpy array\n",
    "\n",
    "# Create a sample array\n",
    "arr = np.array([-1, 2, -3, 4, -5])\n",
    "\n",
    "# Replace negative values with zero\n",
    "arr = np.where(arr < 0, 0, arr)\n",
    "\n",
    "print(arr)\n"
   ]
  },
  {
   "cell_type": "code",
   "execution_count": 5,
   "id": "a61ddac7",
   "metadata": {},
   "outputs": [
    {
     "name": "stdout",
     "output_type": "stream",
     "text": [
      "[[1.  2.  2.5]\n",
      " [4.  5.  6. ]\n",
      " [7.5 8.  9. ]]\n"
     ]
    }
   ],
   "source": [
    "#Replace NaN values with average of columns\n",
    "\n",
    "# Create a sample array with NaN values\n",
    "arr = np.array([[1, 2, np.nan],\n",
    "                [4, np.nan, 6],\n",
    "                [np.nan, 8, 9]])\n",
    "\n",
    "# Calculate column-wise average\n",
    "column_avg = np.nanmean(arr, axis=0)\n",
    "\n",
    "# Replace NaN values with column-wise average\n",
    "arr[np.isnan(arr)] = column_avg[np.isnan(arr).any(axis=0)]\n",
    "\n",
    "print(arr)\n"
   ]
  },
  {
   "cell_type": "code",
   "execution_count": 6,
   "id": "d40e200e",
   "metadata": {},
   "outputs": [
    {
     "name": "stdout",
     "output_type": "stream",
     "text": [
      "[2 4]\n"
     ]
    }
   ],
   "source": [
    "#How to get values of an NumPy array at certain index positions?\n",
    "\n",
    "# Create a sample array\n",
    "arr = np.array([1, 2, 3, 4, 5])\n",
    "\n",
    "# Define index positions\n",
    "indices = [1, 3]\n",
    "\n",
    "# Get values at the specified index positions\n",
    "values = arr[indices]\n",
    "\n",
    "print(values)\n"
   ]
  },
  {
   "cell_type": "code",
   "execution_count": 7,
   "id": "db3adb8d",
   "metadata": {},
   "outputs": [
    {
     "name": "stdout",
     "output_type": "stream",
     "text": [
      "(array([1, 3, 5], dtype=int64),)\n"
     ]
    }
   ],
   "source": [
    "#Find indices of elements equal to zero in a NumPy array\n",
    "\n",
    "# Create a sample array\n",
    "arr = np.array([1, 0, 3, 0, 5, 0])\n",
    "\n",
    "# Find indices of elements equal to zero\n",
    "indices = np.where(arr == 0)\n",
    "\n",
    "print(indices)\n"
   ]
  },
  {
   "cell_type": "code",
   "execution_count": 8,
   "id": "6f4bf7bb",
   "metadata": {},
   "outputs": [
    {
     "name": "stdout",
     "output_type": "stream",
     "text": [
      "[1 2 3]\n",
      "[4 5 6]\n",
      "[7 8 9]\n"
     ]
    }
   ],
   "source": [
    "#How to access different rows of a multidimensional NumPy array?\n",
    "\n",
    "# Create a sample 2D array\n",
    "arr = np.array([[1, 2, 3],\n",
    "                [4, 5, 6],\n",
    "                [7, 8, 9]])\n",
    "\n",
    "# Access specific rows\n",
    "row1 = arr[0]  # Access the first row\n",
    "row2 = arr[1]  # Access the second row\n",
    "row3 = arr[2]  # Access the third row\n",
    "\n",
    "print(row1)\n",
    "print(row2)\n",
    "print(row3)\n"
   ]
  },
  {
   "cell_type": "code",
   "execution_count": 11,
   "id": "ea996a13",
   "metadata": {},
   "outputs": [
    {
     "name": "stdout",
     "output_type": "stream",
     "text": [
      "Given array:\n",
      "[[ 10.5  22.5  10.5]\n",
      " [ 41.   52.5  25. ]\n",
      " [100.    nan  41. ]]\n",
      "\n",
      "Remove all columns containing non-numeric elements \n",
      "[[ 10.5  10.5]\n",
      " [ 41.   25. ]\n",
      " [100.   41. ]]\n"
     ]
    }
   ],
   "source": [
    "#How to Remove columns in Numpy array that contains non-numeric values?\n",
    "# Creating 3X3 2-D Numpy array\n",
    "n_arr = np.array([[10.5, 22.5, 10.5],\n",
    "                  [41, 52.5, 25],\n",
    "                  [100, np.nan, 41]])\n",
    "  \n",
    "print(\"Given array:\")\n",
    "print(n_arr)\n",
    "  \n",
    "print(\"\\nRemove all columns containing non-numeric elements \")\n",
    "print(n_arr[:, ~np.isnan(n_arr).any(axis=0)])"
   ]
  },
  {
   "cell_type": "code",
   "execution_count": 12,
   "id": "896020ad",
   "metadata": {},
   "outputs": [
    {
     "name": "stdout",
     "output_type": "stream",
     "text": [
      "[1 2]\n"
     ]
    }
   ],
   "source": [
    "#Get row numbers of NumPy array having element larger than X\n",
    "# Create a sample 2D array\n",
    "arr = np.array([[1, 2, 3],\n",
    "                [4, 5, 6],\n",
    "                [7, 8, 9]])\n",
    "\n",
    "# Define the threshold value\n",
    "X = 5\n",
    "\n",
    "# Get row numbers where elements are larger than X\n",
    "row_numbers = np.where(np.any(arr > X, axis=1))[0]\n",
    "\n",
    "print(row_numbers)"
   ]
  },
  {
   "cell_type": "markdown",
   "id": "6974d7c9",
   "metadata": {},
   "source": [
    "# 4. Numpy Sorting and Searching Exercises"
   ]
  },
  {
   "cell_type": "code",
   "execution_count": 13,
   "id": "edbf1b33",
   "metadata": {},
   "outputs": [
    {
     "name": "stdout",
     "output_type": "stream",
     "text": [
      "[1 3 2 4 0]\n"
     ]
    }
   ],
   "source": [
    "# How to get the indices of the sorted array using NumPy in Python\n",
    "# Create a sample array\n",
    "arr = np.array([5, 1, 3, 2, 4])\n",
    "\n",
    "# Get indices of the sorted array\n",
    "sorted_indices = np.argsort(arr)\n",
    "\n",
    "print(sorted_indices)"
   ]
  },
  {
   "cell_type": "code",
   "execution_count": 2,
   "id": "2762a9c0",
   "metadata": {},
   "outputs": [
    {
     "name": "stdout",
     "output_type": "stream",
     "text": [
      "[1 2 3]\n"
     ]
    }
   ],
   "source": [
    "#Finding the k smallest values of a NumPy array\n",
    "\n",
    "# Example array\n",
    "arr = np.array([9, 4, 2, 7, 5, 1, 8, 6, 3])\n",
    "\n",
    "# Number of smallest values to find\n",
    "k = 3\n",
    "\n",
    "# Use argsort to get indices that would sort the array\n",
    "indices = np.argsort(arr)\n",
    "\n",
    "# Retrieve the k smallest values using the first k indices\n",
    "k_smallest = arr[indices[:k]]\n",
    "\n",
    "print(k_smallest)\n"
   ]
  },
  {
   "cell_type": "code",
   "execution_count": 6,
   "id": "787d0169",
   "metadata": {},
   "outputs": [
    {
     "name": "stdout",
     "output_type": "stream",
     "text": [
      "[7 8 9]\n"
     ]
    }
   ],
   "source": [
    "#How to get the n-largest values of an array using NumPy?\n",
    "\n",
    "# Example array\n",
    "arr = np.array([9, 4, 2, 7, 5, 1, 8, 6, 3])\n",
    "\n",
    "# Number of largest values to find\n",
    "n = 3\n",
    "\n",
    "# Use argsort to get indices that would sort the array in descending order\n",
    "indices = np.argsort(arr)\n",
    "\n",
    "# Retrieve the last n indices to get the n-largest values\n",
    "n_largest = arr[indices[-n:]]\n",
    "\n",
    "print(n_largest)\n"
   ]
  },
  {
   "cell_type": "code",
   "execution_count": 7,
   "id": "9bf5891d",
   "metadata": {},
   "outputs": [
    {
     "name": "stdout",
     "output_type": "stream",
     "text": [
      "[[2 4 9]\n",
      " [1 5 7]\n",
      " [3 6 8]]\n"
     ]
    }
   ],
   "source": [
    "# Sort the values in a matrix\n",
    "\n",
    "# Example matrix\n",
    "matrix = np.array([[9, 4, 2],\n",
    "                   [7, 5, 1],\n",
    "                   [8, 6, 3]])\n",
    "\n",
    "# Sort the values in the matrix\n",
    "sorted_matrix = np.sort(matrix)\n",
    "\n",
    "print(sorted_matrix)\n"
   ]
  },
  {
   "cell_type": "code",
   "execution_count": 8,
   "id": "42ede719",
   "metadata": {},
   "outputs": [
    {
     "name": "stdout",
     "output_type": "stream",
     "text": [
      "Original Matrix:\n",
      "[[3 2 1]\n",
      " [6 5 4]\n",
      " [9 8 7]]\n",
      "\n",
      "Sorted Matrix:\n",
      "[1 2 3 4 5 6 7 8 9]\n"
     ]
    }
   ],
   "source": [
    "#Sort the values in a matrix\n",
    "\n",
    "# Example matrix\n",
    "matrix = np.array([[3, 2, 1], [6, 5, 4], [9, 8, 7]])\n",
    "\n",
    "# Sort the values in the matrix in ascending order\n",
    "sorted_matrix = np.sort(matrix, axis=None)\n",
    "\n",
    "print(\"Original Matrix:\")\n",
    "print(matrix)\n",
    "\n",
    "print(\"\\nSorted Matrix:\")\n",
    "print(sorted_matrix)\n"
   ]
  },
  {
   "cell_type": "code",
   "execution_count": 13,
   "id": "bee5d2a5",
   "metadata": {},
   "outputs": [
    {
     "name": "stdout",
     "output_type": "stream",
     "text": [
      "initial array :  [1.  1.2 2.2 2.  3.  2. ]\n",
      "final array [1.2 2.2]\n"
     ]
    }
   ],
   "source": [
    "#Filter out integers from float numpy array\n",
    "# initialising array\n",
    "ini_array = np.array([1.0, 1.2, 2.2, 2.0, 3.0, 2.0])\n",
    " \n",
    "# printing initial array\n",
    "print (\"initial array : \", str(ini_array))\n",
    " \n",
    "# filtering integers\n",
    "result = ini_array[ini_array != ini_array.astype(int)]\n",
    " \n",
    "# printing resultant\n",
    "print (\"final array\", result)"
   ]
  },
  {
   "cell_type": "code",
   "execution_count": 14,
   "id": "fecf25d1",
   "metadata": {},
   "outputs": [
    {
     "name": "stdout",
     "output_type": "stream",
     "text": [
      "Original Array:\n",
      "[9 4 2 7 5]\n",
      "\n",
      "Sorted Indices:\n",
      "[2 1 4 3 0]\n"
     ]
    }
   ],
   "source": [
    "#Find the indices into a sorted array\n",
    "\n",
    "# Example array\n",
    "array = np.array([9, 4, 2, 7, 5])\n",
    "\n",
    "# Get the indices that would sort the array\n",
    "sorted_indices = np.argsort(array)\n",
    "\n",
    "print(\"Original Array:\")\n",
    "print(array)\n",
    "\n",
    "print(\"\\nSorted Indices:\")\n",
    "print(sorted_indices)\n"
   ]
  },
  {
   "cell_type": "markdown",
   "id": "c06804f0",
   "metadata": {},
   "source": [
    "# 5. Numpy Random Exercises"
   ]
  },
  {
   "cell_type": "code",
   "execution_count": 15,
   "id": "816c7cf9",
   "metadata": {},
   "outputs": [
    {
     "name": "stdout",
     "output_type": "stream",
     "text": [
      "1D Random Array:\n",
      "[0.43954563 0.26485058 0.01773626 0.93141077 0.02625085]\n",
      "\n",
      "2D Random Matrix:\n",
      "[[0.75634309 0.3524871  0.37470479 0.84277938]\n",
      " [0.81119838 0.96425339 0.9959382  0.7491341 ]\n",
      " [0.87075918 0.33836985 0.37205549 0.28794461]]\n"
     ]
    }
   ],
   "source": [
    "#Create a Numpy array with random values\n",
    "\n",
    "# Create a 1D array with random values\n",
    "random_array = np.random.rand(5)\n",
    "\n",
    "print(\"1D Random Array:\")\n",
    "print(random_array)\n",
    "\n",
    "# Create a 2D array with random values\n",
    "random_matrix = np.random.rand(3, 4)\n",
    "\n",
    "print(\"\\n2D Random Matrix:\")\n",
    "print(random_matrix)\n"
   ]
  },
  {
   "cell_type": "code",
   "execution_count": 16,
   "id": "7ab4ee33",
   "metadata": {},
   "outputs": [
    {
     "name": "stdout",
     "output_type": "stream",
     "text": [
      "Random Numbers from Uniform Distribution:\n",
      "[0.36235458 0.44296586 0.14267032 0.83082728 0.09752162]\n"
     ]
    }
   ],
   "source": [
    "#Generate Random Numbers From The Uniform Distribution using NumPy\n",
    "\n",
    "# Generate random numbers from the uniform distribution\n",
    "random_numbers = np.random.uniform(low=0.0, high=1.0, size=5)\n",
    "\n",
    "print(\"Random Numbers from Uniform Distribution:\")\n",
    "print(random_numbers)\n"
   ]
  },
  {
   "cell_type": "code",
   "execution_count": 17,
   "id": "a37a57cd",
   "metadata": {},
   "outputs": [
    {
     "name": "stdout",
     "output_type": "stream",
     "text": [
      "Random Matrix from Uniform Distribution:\n",
      "[[0.83378565 0.93171556 0.86778489 0.10140735]\n",
      " [0.63628847 0.16757091 0.24743469 0.95761479]\n",
      " [0.22489537 0.37897845 0.01581924 0.11317883]]\n"
     ]
    }
   ],
   "source": [
    "#Return a Matrix of random values from a uniform distribution\n",
    "\n",
    "# Generate a matrix of random values from the uniform distribution\n",
    "rows = 3\n",
    "cols = 4\n",
    "random_matrix = np.random.uniform(low=0.0, high=1.0, size=(rows, cols))\n",
    "\n",
    "print(\"Random Matrix from Uniform Distribution:\")\n",
    "print(random_matrix)\n"
   ]
  },
  {
   "cell_type": "markdown",
   "id": "8d471a83",
   "metadata": {},
   "source": [
    "# 6. Dataframe Exercises"
   ]
  },
  {
   "cell_type": "code",
   "execution_count": 2,
   "id": "96d633fc",
   "metadata": {},
   "outputs": [
    {
     "data": {
      "text/html": [
       "<div>\n",
       "<style scoped>\n",
       "    .dataframe tbody tr th:only-of-type {\n",
       "        vertical-align: middle;\n",
       "    }\n",
       "\n",
       "    .dataframe tbody tr th {\n",
       "        vertical-align: top;\n",
       "    }\n",
       "\n",
       "    .dataframe thead th {\n",
       "        text-align: right;\n",
       "    }\n",
       "</style>\n",
       "<table border=\"1\" class=\"dataframe\">\n",
       "  <thead>\n",
       "    <tr style=\"text-align: right;\">\n",
       "      <th></th>\n",
       "      <th>Name</th>\n",
       "      <th>Age</th>\n",
       "      <th>Occupation</th>\n",
       "    </tr>\n",
       "  </thead>\n",
       "  <tbody>\n",
       "    <tr>\n",
       "      <th>0</th>\n",
       "      <td>John</td>\n",
       "      <td>28</td>\n",
       "      <td>Engineer</td>\n",
       "    </tr>\n",
       "    <tr>\n",
       "      <th>1</th>\n",
       "      <td>Sarah</td>\n",
       "      <td>32</td>\n",
       "      <td>Doctor</td>\n",
       "    </tr>\n",
       "    <tr>\n",
       "      <th>2</th>\n",
       "      <td>Michael</td>\n",
       "      <td>45</td>\n",
       "      <td>Lawyer</td>\n",
       "    </tr>\n",
       "    <tr>\n",
       "      <th>3</th>\n",
       "      <td>Emily</td>\n",
       "      <td>29</td>\n",
       "      <td>Teacher</td>\n",
       "    </tr>\n",
       "  </tbody>\n",
       "</table>\n",
       "</div>"
      ],
      "text/plain": [
       "      Name  Age Occupation\n",
       "0     John   28   Engineer\n",
       "1    Sarah   32     Doctor\n",
       "2  Michael   45     Lawyer\n",
       "3    Emily   29    Teacher"
      ]
     },
     "execution_count": 2,
     "metadata": {},
     "output_type": "execute_result"
    }
   ],
   "source": [
    "#Make a Pandas DataFrame with two-dimensional list\n",
    "# import pandas\n",
    "import pandas as pd\n",
    "# create data\n",
    "data = [\n",
    "    ['John', 28, 'Engineer'],\n",
    "    ['Sarah', 32, 'Doctor'],\n",
    "    ['Michael', 45, 'Lawyer'],\n",
    "    ['Emily', 29, 'Teacher']\n",
    "]\n",
    "#create dataframe\n",
    "df = pd.DataFrame(data, columns=['Name', 'Age', 'Occupation'])\n",
    "\n",
    "df\n"
   ]
  },
  {
   "cell_type": "code",
   "execution_count": 4,
   "id": "ea68e58c",
   "metadata": {},
   "outputs": [
    {
     "name": "stdout",
     "output_type": "stream",
     "text": [
      "   Name  Age      City\n",
      "0  John   25  New York\n",
      "1  Jane   30    London\n",
      "2  Mike   35     Paris\n"
     ]
    }
   ],
   "source": [
    "#Creating DataFrame from dict of narray/lists\n",
    "\n",
    "# Dictionary containing arrays/lists\n",
    "data = {\n",
    "    'Name': ['John', 'Jane', 'Mike'],\n",
    "    'Age': [25, 30, 35],\n",
    "    'City': ['New York', 'London', 'Paris']\n",
    "}\n",
    "\n",
    "# Creating DataFrame\n",
    "df = pd.DataFrame(data)\n",
    "\n",
    "# Displaying the DataFrame\n",
    "print(df)\n"
   ]
  },
  {
   "cell_type": "code",
   "execution_count": 5,
   "id": "c2cb0ad1",
   "metadata": {},
   "outputs": [
    {
     "name": "stdout",
     "output_type": "stream",
     "text": [
      "   Name  Age      City\n",
      "0  John   25  New York\n",
      "1  Jane   30    London\n",
      "2  Mike   35     Paris\n"
     ]
    }
   ],
   "source": [
    "#Creating Pandas dataframe using list of lists\n",
    "\n",
    "# List of lists\n",
    "data = [\n",
    "    ['John', 25, 'New York'],\n",
    "    ['Jane', 30, 'London'],\n",
    "    ['Mike', 35, 'Paris']\n",
    "]\n",
    "\n",
    "# Creating DataFrame\n",
    "df = pd.DataFrame(data, columns=['Name', 'Age', 'City'])\n",
    "\n",
    "# Displaying the DataFrame\n",
    "print(df)\n"
   ]
  },
  {
   "cell_type": "code",
   "execution_count": 6,
   "id": "4d9e7744",
   "metadata": {},
   "outputs": [
    {
     "name": "stdout",
     "output_type": "stream",
     "text": [
      "   Name  Age      City\n",
      "0  John   25  New York\n",
      "1  Jane   30    London\n",
      "2  Mike   35     Paris\n"
     ]
    }
   ],
   "source": [
    "#Creating a Pandas dataframe using list of tuples\n",
    "\n",
    "# List of tuples\n",
    "data = [\n",
    "    ('John', 25, 'New York'),\n",
    "    ('Jane', 30, 'London'),\n",
    "    ('Mike', 35, 'Paris')\n",
    "]\n",
    "\n",
    "# Creating DataFrame\n",
    "df = pd.DataFrame(data, columns=['Name', 'Age', 'City'])\n",
    "\n",
    "# Displaying the DataFrame\n",
    "print(df)\n",
    "\n"
   ]
  },
  {
   "cell_type": "code",
   "execution_count": 7,
   "id": "03cacdc8",
   "metadata": {},
   "outputs": [
    {
     "name": "stdout",
     "output_type": "stream",
     "text": [
      "   Name  Age      City\n",
      "0  John   25  New York\n",
      "1  Jane   30    London\n",
      "2  Mike   35     Paris\n"
     ]
    }
   ],
   "source": [
    "#Create a Pandas DataFrame from List of Dicts\n",
    "\n",
    "\n",
    "# List of dictionaries\n",
    "data = [\n",
    "    {'Name': 'John', 'Age': 25, 'City': 'New York'},\n",
    "    {'Name': 'Jane', 'Age': 30, 'City': 'London'},\n",
    "    {'Name': 'Mike', 'Age': 35, 'City': 'Paris'}\n",
    "]\n",
    "\n",
    "# Creating DataFrame\n",
    "df = pd.DataFrame(data)\n",
    "\n",
    "# Displaying the DataFrame\n",
    "print(df)\n"
   ]
  },
  {
   "cell_type": "code",
   "execution_count": 8,
   "id": "4e952dc8",
   "metadata": {},
   "outputs": [
    {
     "name": "stdout",
     "output_type": "stream",
     "text": [
      "   Numbers\n",
      "0       10\n",
      "1       20\n",
      "2       30\n",
      "3       40\n",
      "4       50\n"
     ]
    }
   ],
   "source": [
    "# Creating a dataframe from Pandas series\n",
    "\n",
    "\n",
    "# Creating a Pandas Series\n",
    "series = pd.Series([10, 20, 30, 40, 50], name='Numbers')\n",
    "\n",
    "# Creating DataFrame from Series\n",
    "df = pd.DataFrame(series)\n",
    "\n",
    "# Displaying the DataFrame\n",
    "print(df)\n"
   ]
  },
  {
   "cell_type": "code",
   "execution_count": 9,
   "id": "58f05b25",
   "metadata": {},
   "outputs": [
    {
     "name": "stdout",
     "output_type": "stream",
     "text": [
      "   A  B\n",
      "c  3  6\n",
      "b  2  5\n",
      "a  1  4\n"
     ]
    }
   ],
   "source": [
    "#Reindexing in Pandas DataFrame\n",
    "\n",
    "# Creating a DataFrame\n",
    "df = pd.DataFrame({'A': [1, 2, 3], 'B': [4, 5, 6]}, index=['a', 'b', 'c'])\n",
    "\n",
    "# Reindexing rows\n",
    "df_reindexed = df.reindex(['c', 'b', 'a'])\n",
    "\n",
    "# Displaying the reindexed DataFrame\n",
    "print(df_reindexed)\n"
   ]
  },
  {
   "cell_type": "code",
   "execution_count": 10,
   "id": "1356bb3c",
   "metadata": {},
   "outputs": [
    {
     "name": "stdout",
     "output_type": "stream",
     "text": [
      "  index  A  B\n",
      "0     a  1  4\n",
      "1     b  2  5\n",
      "2     c  3  6\n"
     ]
    }
   ],
   "source": [
    "#Reset Index in Pandas Dataframe\n",
    "\n",
    "# Creating a DataFrame\n",
    "df = pd.DataFrame({'A': [1, 2, 3], 'B': [4, 5, 6]}, index=['a', 'b', 'c'])\n",
    "\n",
    "# Resetting the index\n",
    "df_reset = df.reset_index()\n",
    "\n",
    "# Displaying the DataFrame with reset index\n",
    "print(df_reset)\n"
   ]
  },
  {
   "cell_type": "code",
   "execution_count": 11,
   "id": "5a6d721c",
   "metadata": {},
   "outputs": [
    {
     "name": "stdout",
     "output_type": "stream",
     "text": [
      "   X  Y  Z\n",
      "0  1  4  7\n",
      "1  2  5  8\n",
      "2  3  6  9\n"
     ]
    }
   ],
   "source": [
    "#Change column names and row indexes in Pandas DataFrame\n",
    "\n",
    "# Creating a DataFrame\n",
    "df = pd.DataFrame({'A': [1, 2, 3], 'B': [4, 5, 6], 'C': [7, 8, 9]})\n",
    "\n",
    "# Changing column names\n",
    "df.columns = ['X', 'Y', 'Z']\n",
    "\n",
    "# Displaying the DataFrame with new column names\n",
    "print(df)\n"
   ]
  },
  {
   "cell_type": "markdown",
   "id": "e52254b5",
   "metadata": {},
   "source": [
    "# 7.Pandas Dataframe Row Exercises"
   ]
  },
  {
   "cell_type": "code",
   "execution_count": 12,
   "id": "78399168",
   "metadata": {},
   "outputs": [
    {
     "name": "stdout",
     "output_type": "stream",
     "text": [
      "0 1 4\n",
      "1 2 5\n",
      "2 3 6\n"
     ]
    }
   ],
   "source": [
    "#How to iterate over rows in Pandas Dataframe\n",
    "\n",
    "# Creating a DataFrame\n",
    "df = pd.DataFrame({'A': [1, 2, 3], 'B': [4, 5, 6]})\n",
    "\n",
    "# Iterating over rows using iterrows()\n",
    "for index, row in df.iterrows():\n",
    "    print(index, row['A'], row['B'])\n"
   ]
  },
  {
   "cell_type": "code",
   "execution_count": 13,
   "id": "04c887d1",
   "metadata": {},
   "outputs": [
    {
     "name": "stdout",
     "output_type": "stream",
     "text": [
      "1 4\n",
      "2 5\n",
      "3 6\n"
     ]
    }
   ],
   "source": [
    "# Different ways to iterate over rows in Pandas Dataframe\n",
    "\n",
    "\n",
    "# Creating a DataFrame\n",
    "df = pd.DataFrame({'A': [1, 2, 3], 'B': [4, 5, 6]})\n",
    "\n",
    "# Iterating over rows using indexing and iteration\n",
    "for i in range(len(df)):\n",
    "    row = df.iloc[i]\n",
    "    print(row['A'], row['B'])\n"
   ]
  },
  {
   "cell_type": "code",
   "execution_count": 3,
   "id": "9d7e93ad",
   "metadata": {},
   "outputs": [
    {
     "name": "stdout",
     "output_type": "stream",
     "text": [
      "      Name  Age    City\n",
      "2  Charlie   35   Paris\n",
      "3    David   40   Tokyo\n",
      "4      Eve   45  Sydney\n"
     ]
    }
   ],
   "source": [
    "#Selecting rows in pandas DataFrame based on conditions\n",
    "\n",
    "# Create a sample DataFrame\n",
    "data = {'Name': ['Alice', 'Bob', 'Charlie', 'David', 'Eve'],\n",
    "        'Age': [25, 30, 35, 40, 45],\n",
    "        'City': ['New York', 'London', 'Paris', 'Tokyo', 'Sydney']}\n",
    "df = pd.DataFrame(data)\n",
    "\n",
    "# Select rows where Age is greater than 30\n",
    "selected_rows = df[df['Age'] > 30]\n",
    "\n",
    "print(selected_rows)\n"
   ]
  },
  {
   "cell_type": "code",
   "execution_count": 6,
   "id": "833f327b",
   "metadata": {},
   "outputs": [
    {
     "name": "stdout",
     "output_type": "stream",
     "text": [
      "Name       Alice\n",
      "Age           25\n",
      "City    New York\n",
      "Name: 0, dtype: object\n",
      "Bob\n"
     ]
    }
   ],
   "source": [
    "#Select any row from a Dataframe using iloc[] and iat[] in Pandas\n",
    "# Create a sample DataFrame\n",
    "data = {'Name': ['Alice', 'Bob', 'Charlie', 'David', 'Eve'],\n",
    "        'Age': [25, 30, 35, 40, 45],\n",
    "        'City': ['New York', 'London', 'Paris', 'Tokyo', 'Sydney']}\n",
    "df = pd.DataFrame(data)\n",
    "\n",
    "# Select the first row using iloc[]\n",
    "first_row = df.iloc[0]\n",
    "\n",
    "# Select the value from the second row and 'Name' column using iat[]\n",
    "value = df.iat[1, 0]\n",
    "\n",
    "print(first_row)\n",
    "print(value)"
   ]
  },
  {
   "cell_type": "code",
   "execution_count": 8,
   "id": "52bc2e45",
   "metadata": {},
   "outputs": [
    {
     "name": "stdout",
     "output_type": "stream",
     "text": [
      "      Name  Age      City\n",
      "0    Alice   25  New York\n",
      "1      Bob   30    London\n",
      "2  Charlie   35     Paris\n"
     ]
    }
   ],
   "source": [
    "#Limited rows selection with given column in Pandas | Python\n",
    "\n",
    "# Create a sample DataFrame\n",
    "data = {'Name': ['Alice', 'Bob', 'Charlie', 'David', 'Eve'],\n",
    "        'Age': [25, 30, 35, 40, 45],\n",
    "        'City': ['New York', 'London', 'Paris', 'Tokyo', 'Sydney']}\n",
    "df = pd.DataFrame(data)\n",
    "\n",
    "# Select the first three rows based on the 'Name' column\n",
    "limited_rows = df.head(3)\n",
    "\n",
    "print(limited_rows)\n"
   ]
  },
  {
   "cell_type": "code",
   "execution_count": 9,
   "id": "df2ee39b",
   "metadata": {},
   "outputs": [
    {
     "name": "stdout",
     "output_type": "stream",
     "text": [
      "    Name  Age      City\n",
      "0  Alice   25  New York\n",
      "1    Bob   30    London\n"
     ]
    }
   ],
   "source": [
    "#Drop rows from the dataframe based on certain condition applied on a column\n",
    "\n",
    "# Create a sample DataFrame\n",
    "data = {'Name': ['Alice', 'Bob', 'Charlie', 'David', 'Eve'],\n",
    "        'Age': [25, 30, 35, 40, 45],\n",
    "        'City': ['New York', 'London', 'Paris', 'Tokyo', 'Sydney']}\n",
    "df = pd.DataFrame(data)\n",
    "\n",
    "# Drop rows where Age is greater than 30\n",
    "filtered_df = df.drop(df[df['Age'] > 30].index)\n",
    "\n",
    "print(filtered_df)\n"
   ]
  },
  {
   "cell_type": "code",
   "execution_count": 12,
   "id": "66afbaae",
   "metadata": {},
   "outputs": [
    {
     "name": "stdout",
     "output_type": "stream",
     "text": [
      "      Name  Age      City\n",
      "0    Alice   25  New York\n",
      "1      Bob   30    London\n",
      "2    David   40     Tokyo\n",
      "3  Charlie   35     Paris\n",
      "4      Eve   45    Sydney\n"
     ]
    },
    {
     "name": "stderr",
     "output_type": "stream",
     "text": [
      "C:\\Users\\Tcc\\AppData\\Local\\Temp\\ipykernel_14640\\2812240325.py:13: FutureWarning: The frame.append method is deprecated and will be removed from pandas in a future version. Use pandas.concat instead.\n",
      "  df = df.loc[:1].append(new_row, ignore_index=True).append(df.loc[2:], ignore_index=True)\n",
      "C:\\Users\\Tcc\\AppData\\Local\\Temp\\ipykernel_14640\\2812240325.py:13: FutureWarning: The frame.append method is deprecated and will be removed from pandas in a future version. Use pandas.concat instead.\n",
      "  df = df.loc[:1].append(new_row, ignore_index=True).append(df.loc[2:], ignore_index=True)\n"
     ]
    }
   ],
   "source": [
    "#Insert row at given position in Pandas Dataframe\n",
    "\n",
    "# Create a sample DataFrame\n",
    "data = {'Name': ['Alice', 'Bob', 'Charlie', 'Eve'],\n",
    "        'Age': [25, 30, 35, 45],\n",
    "        'City': ['New York', 'London', 'Paris', 'Sydney']}\n",
    "df = pd.DataFrame(data)\n",
    "\n",
    "# Create a new row\n",
    "new_row = {'Name': 'David', 'Age': 40, 'City': 'Tokyo'}\n",
    "\n",
    "# Insert the new row at position 2\n",
    "df = df.loc[:1].append(new_row, ignore_index=True).append(df.loc[2:], ignore_index=True)\n",
    "\n",
    "print(df)\n"
   ]
  },
  {
   "cell_type": "code",
   "execution_count": 13,
   "id": "61c56272",
   "metadata": {},
   "outputs": [
    {
     "name": "stdout",
     "output_type": "stream",
     "text": [
      "[['Alice', 25, 'New York'], ['Bob', 30, 'London'], ['Charlie', 35, 'Paris']]\n"
     ]
    }
   ],
   "source": [
    "# Create a list from rows in Pandas dataframe\n",
    "\n",
    "# Create a sample DataFrame\n",
    "data = {'Name': ['Alice', 'Bob', 'Charlie'],\n",
    "        'Age': [25, 30, 35],\n",
    "        'City': ['New York', 'London', 'Paris']}\n",
    "df = pd.DataFrame(data)\n",
    "\n",
    "# Convert DataFrame rows into a list\n",
    "rows_list = df.values.tolist()\n",
    "\n",
    "print(rows_list)\n"
   ]
  },
  {
   "cell_type": "code",
   "execution_count": 14,
   "id": "50f1557b",
   "metadata": {},
   "outputs": [
    {
     "name": "stdout",
     "output_type": "stream",
     "text": [
      "      Name  Score  Rank\n",
      "0    Alice     85   3.0\n",
      "1      Bob     90   2.0\n",
      "2  Charlie     75   5.0\n",
      "3    David     80   4.0\n",
      "4      Eve     95   1.0\n"
     ]
    }
   ],
   "source": [
    "#Ranking Rows of Pandas DataFrame\n",
    "\n",
    "# Create a sample DataFrame\n",
    "data = {'Name': ['Alice', 'Bob', 'Charlie', 'David', 'Eve'],\n",
    "        'Score': [85, 90, 75, 80, 95]}\n",
    "df = pd.DataFrame(data)\n",
    "\n",
    "# Rank the rows based on the 'Score' column\n",
    "df['Rank'] = df['Score'].rank(ascending=False)\n",
    "\n",
    "print(df)\n"
   ]
  },
  {
   "cell_type": "code",
   "execution_count": 15,
   "id": "c86b873a",
   "metadata": {},
   "outputs": [
    {
     "name": "stdout",
     "output_type": "stream",
     "text": [
      "      Name  Age      City\n",
      "3    David   20     Tokyo\n",
      "0    Alice   25  New York\n",
      "1      Bob   30    London\n",
      "2  Charlie   35     Paris\n",
      "4      Eve   45    Sydney\n"
     ]
    }
   ],
   "source": [
    "#Sorting rows in pandas DataFrame\n",
    "\n",
    "# Create a sample DataFrame\n",
    "data = {'Name': ['Alice', 'Bob', 'Charlie', 'David', 'Eve'],\n",
    "        'Age': [25, 30, 35, 20, 45],\n",
    "        'City': ['New York', 'London', 'Paris', 'Tokyo', 'Sydney']}\n",
    "df = pd.DataFrame(data)\n",
    "\n",
    "# Sort the rows based on the 'Age' column in ascending order\n",
    "sorted_df = df.sort_values(by='Age', ascending=True)\n",
    "\n",
    "print(sorted_df)\n"
   ]
  },
  {
   "cell_type": "code",
   "execution_count": 16,
   "id": "097cad79",
   "metadata": {},
   "outputs": [
    {
     "name": "stdout",
     "output_type": "stream",
     "text": [
      "Row with the maximum value:\n",
      "      Name  Age   City\n",
      "2  Charlie   35  Paris\n",
      "2  Charlie   35  Paris\n",
      "2  Charlie   35  Paris\n",
      "\n",
      "Row with the minimum value:\n",
      "    Name  Age      City\n",
      "0  Alice   25  New York\n",
      "0  Alice   25  New York\n",
      "1    Bob   30    London\n"
     ]
    }
   ],
   "source": [
    "# Select row with maximum and minimum value in Pandas dataframe\n",
    "\n",
    "\n",
    "# Create a sample DataFrame\n",
    "data = {'Name': ['Alice', 'Bob', 'Charlie'],\n",
    "        'Age': [25, 30, 35],\n",
    "        'City': ['New York', 'London', 'Paris']}\n",
    "df = pd.DataFrame(data)\n",
    "\n",
    "# Select the row with the maximum value across all columns\n",
    "max_row = df.loc[df.values.argmax(axis=0)]\n",
    "\n",
    "# Select the row with the minimum value across all columns\n",
    "min_row = df.loc[df.values.argmin(axis=0)]\n",
    "\n",
    "print(\"Row with the maximum value:\")\n",
    "print(max_row)\n",
    "print()\n",
    "print(\"Row with the minimum value:\")\n",
    "print(min_row)\n"
   ]
  },
  {
   "cell_type": "code",
   "execution_count": 17,
   "id": "32378c1c",
   "metadata": {},
   "outputs": [
    {
     "name": "stdout",
     "output_type": "stream",
     "text": [
      "      Name  Age   City\n",
      "2  Charlie   35  Paris\n"
     ]
    }
   ],
   "source": [
    "#Get all rows in a Pandas DataFrame containing given substring\n",
    "\n",
    "# Create a sample DataFrame\n",
    "data = {'Name': ['Alice', 'Bob', 'Charlie', 'David', 'Eve'],\n",
    "        'Age': [25, 30, 35, 20, 45],\n",
    "        'City': ['New York', 'London', 'Paris', 'Tokyo', 'Sydney']}\n",
    "df = pd.DataFrame(data)\n",
    "\n",
    "# Define the substring to search for\n",
    "substring = 'ar'\n",
    "\n",
    "# Get all rows containing the substring in the 'Name' column\n",
    "rows_with_substring = df[df['Name'].str.contains(substring)]\n",
    "\n",
    "print(rows_with_substring)\n"
   ]
  },
  {
   "cell_type": "code",
   "execution_count": 18,
   "id": "9d368503",
   "metadata": {},
   "outputs": [
    {
     "name": "stdout",
     "output_type": "stream",
     "text": [
      "         Age      City\n",
      "Name                  \n",
      "Alice     25  New York\n",
      "Bob       30    London\n",
      "Charlie   35     Paris\n",
      "David     20     Tokyo\n",
      "Eve       45    Sydney\n"
     ]
    }
   ],
   "source": [
    "# Convert a column to row name/index in Pandas\n",
    "\n",
    "\n",
    "# Create a sample DataFrame\n",
    "data = {'Name': ['Alice', 'Bob', 'Charlie', 'David', 'Eve'],\n",
    "        'Age': [25, 30, 35, 20, 45],\n",
    "        'City': ['New York', 'London', 'Paris', 'Tokyo', 'Sydney']}\n",
    "df = pd.DataFrame(data)\n",
    "\n",
    "# Set the 'Name' column as the new index\n",
    "df = df.set_index('Name')\n",
    "\n",
    "print(df)\n"
   ]
  },
  {
   "cell_type": "code",
   "execution_count": 19,
   "id": "7966c938",
   "metadata": {},
   "outputs": [
    {
     "name": "stdout",
     "output_type": "stream",
     "text": [
      "    Name  Age      City\n",
      "3  David   20     Tokyo\n",
      "4    Eve   45    Sydney\n",
      "0  Alice   25  New York\n"
     ]
    }
   ],
   "source": [
    "#How to randomly select rows from Pandas DataFrame\n",
    "\n",
    "# Create a sample DataFrame\n",
    "data = {'Name': ['Alice', 'Bob', 'Charlie', 'David', 'Eve'],\n",
    "        'Age': [25, 30, 35, 20, 45],\n",
    "        'City': ['New York', 'London', 'Paris', 'Tokyo', 'Sydney']}\n",
    "df = pd.DataFrame(data)\n",
    "\n",
    "# Randomly select 3 rows from the DataFrame\n",
    "random_rows = df.sample(n=3)\n",
    "\n",
    "print(random_rows)\n"
   ]
  },
  {
   "cell_type": "markdown",
   "id": "ff92b89f",
   "metadata": {},
   "source": [
    "# 8. Pandas Dataframe Column Exercise"
   ]
  },
  {
   "cell_type": "code",
   "execution_count": 21,
   "id": "4309b84f",
   "metadata": {},
   "outputs": [
    {
     "name": "stdout",
     "output_type": "stream",
     "text": [
      "      Name  Age Category\n",
      "0    Alice   25    Young\n",
      "1      Bob   30      Old\n",
      "2  Charlie   35      Old\n",
      "3    David   20    Young\n",
      "4      Eve   45      Old\n"
     ]
    }
   ],
   "source": [
    "#Create a pandas column using for loop\n",
    "\n",
    "# Create a sample DataFrame\n",
    "data = {'Name': ['Alice', 'Bob', 'Charlie', 'David', 'Eve'],\n",
    "        'Age': [25, 30, 35, 20, 45]}\n",
    "df = pd.DataFrame(data)\n",
    "\n",
    "# Create a new column 'Category' based on 'Age' values\n",
    "df['Category'] = ''\n",
    "\n",
    "# Iterate over the rows and assign values to the new column\n",
    "for index, row in df.iterrows():\n",
    "    age = row['Age']\n",
    "    if age < 30:\n",
    "        category = 'Young'\n",
    "    else:\n",
    "        category = 'Old'\n",
    "    df.loc[index, 'Category'] = category\n",
    "\n",
    "print(df)\n"
   ]
  },
  {
   "cell_type": "code",
   "execution_count": 22,
   "id": "b19180e4",
   "metadata": {},
   "outputs": [
    {
     "name": "stdout",
     "output_type": "stream",
     "text": [
      "Index(['Name', 'Age', 'City'], dtype='object')\n"
     ]
    }
   ],
   "source": [
    "#How to get column names in Pandas dataframeimport pandas as pd\n",
    "\n",
    "# Create a sample DataFrame\n",
    "data = {'Name': ['Alice', 'Bob', 'Charlie'],\n",
    "        'Age': [25, 30, 35],\n",
    "        'City': ['New York', 'London', 'Paris']}\n",
    "df = pd.DataFrame(data)\n",
    "\n",
    "# Get the column names\n",
    "column_names = df.columns\n",
    "\n",
    "print(column_names)\n"
   ]
  },
  {
   "cell_type": "code",
   "execution_count": 23,
   "id": "ecd001f6",
   "metadata": {},
   "outputs": [
    {
     "name": "stdout",
     "output_type": "stream",
     "text": [
      "  Full Name  Age (in years)      City\n",
      "0     Alice              25  New York\n",
      "1       Bob              30    London\n",
      "2   Charlie              35     Paris\n"
     ]
    }
   ],
   "source": [
    "#How to rename columns in Pandas DataFrame\n",
    "\n",
    "# Create a sample DataFrame\n",
    "data = {'Name': ['Alice', 'Bob', 'Charlie'],\n",
    "        'Age': [25, 30, 35],\n",
    "        'City': ['New York', 'London', 'Paris']}\n",
    "df = pd.DataFrame(data)\n",
    "\n",
    "# Rename columns\n",
    "df = df.rename(columns={'Name': 'Full Name', 'Age': 'Age (in years)'})\n",
    "\n",
    "print(df)\n"
   ]
  },
  {
   "cell_type": "code",
   "execution_count": 24,
   "id": "fb80ee62",
   "metadata": {},
   "outputs": [
    {
     "name": "stdout",
     "output_type": "stream",
     "text": [
      "['Alice' 'Bob' 'Charlie']\n"
     ]
    }
   ],
   "source": [
    "#Get unique values from a column in Pandas DataFrame\n",
    "\n",
    "# Create a sample DataFrame\n",
    "data = {'Name': ['Alice', 'Bob', 'Alice', 'Charlie', 'Bob'],\n",
    "        'Age': [25, 30, 25, 35, 30]}\n",
    "df = pd.DataFrame(data)\n",
    "\n",
    "# Get unique values from the 'Name' column\n",
    "unique_names = df['Name'].unique()\n",
    "\n",
    "print(unique_names)\n"
   ]
  },
  {
   "cell_type": "code",
   "execution_count": 25,
   "id": "dce9e857",
   "metadata": {},
   "outputs": [
    {
     "name": "stdout",
     "output_type": "stream",
     "text": [
      "Int64Index([2, 4], dtype='int64')\n"
     ]
    }
   ],
   "source": [
    "#Return the Index label if some condition is satisfied over a column in Pandas Dataframe\n",
    "\n",
    "# Create a sample DataFrame\n",
    "data = {'Name': ['Alice', 'Bob', 'Charlie', 'David', 'Eve'],\n",
    "        'Age': [25, 30, 35, 20, 45]}\n",
    "df = pd.DataFrame(data)\n",
    "\n",
    "# Find index labels where the Age is greater than 30\n",
    "indices = df.loc[df['Age'] > 30].index\n",
    "\n",
    "print(indices)\n"
   ]
  },
  {
   "cell_type": "code",
   "execution_count": 26,
   "id": "4ed1c2de",
   "metadata": {},
   "outputs": [
    {
     "name": "stdout",
     "output_type": "stream",
     "text": [
      "      Name  Age  Salary  Salary Increase\n",
      "0    Alice   25   50000           5000.0\n",
      "1      Bob   30   60000           6000.0\n",
      "2  Charlie   35   70000           7000.0\n",
      "3    David   20   55000           5500.0\n",
      "4      Eve   45   80000           8000.0\n"
     ]
    }
   ],
   "source": [
    "#Create a new column in Pandas DataFrame based on the existing columns\n",
    "\n",
    "# Create a sample DataFrame\n",
    "data = {'Name': ['Alice', 'Bob', 'Charlie', 'David', 'Eve'],\n",
    "        'Age': [25, 30, 35, 20, 45],\n",
    "        'Salary': [50000, 60000, 70000, 55000, 80000]}\n",
    "df = pd.DataFrame(data)\n",
    "\n",
    "# Create a new column 'Salary Increase' based on 'Salary' column\n",
    "df['Salary Increase'] = df['Salary'] * 0.1\n",
    "\n",
    "print(df)\n"
   ]
  },
  {
   "cell_type": "code",
   "execution_count": 27,
   "id": "fdf2e68a",
   "metadata": {},
   "outputs": [
    {
     "name": "stdout",
     "output_type": "stream",
     "text": [
      "      Name  Age Category\n",
      "0    Alice   25    Young\n",
      "1      Bob   30      Old\n",
      "2  Charlie   35      Old\n",
      "3    David   20    Young\n",
      "4      Eve   45      Old\n"
     ]
    }
   ],
   "source": [
    "#Creating a Pandas dataframe column based on a given condition\n",
    "import pandas as pd\n",
    "\n",
    "# Create a sample DataFrame\n",
    "data = {'Name': ['Alice', 'Bob', 'Charlie', 'David', 'Eve'],\n",
    "        'Age': [25, 30, 35, 20, 45]}\n",
    "df = pd.DataFrame(data)\n",
    "\n",
    "# Create a new column 'Category' based on the condition\n",
    "df.loc[df['Age'] < 30, 'Category'] = 'Young'\n",
    "df.loc[df['Age'] >= 30, 'Category'] = 'Old'\n",
    "\n",
    "print(df)\n"
   ]
  },
  {
   "cell_type": "code",
   "execution_count": 28,
   "id": "3d6deb5f",
   "metadata": {},
   "outputs": [
    {
     "name": "stdout",
     "output_type": "stream",
     "text": [
      "Alice      2\n",
      "Bob        1\n",
      "Charlie    1\n",
      "David      1\n",
      "Name: Name, dtype: int64\n"
     ]
    }
   ],
   "source": [
    "#Getting frequency counts of a columns in Pandas DataFrame\n",
    "\n",
    "# Create a sample DataFrame\n",
    "data = {'Name': ['Alice', 'Bob', 'Charlie', 'David', 'Alice'],\n",
    "        'Age': [25, 30, 35, 20, 25]}\n",
    "df = pd.DataFrame(data)\n",
    "\n",
    "# Get frequency counts of the 'Name' column\n",
    "counts = df['Name'].value_counts()\n",
    "\n",
    "print(counts)\n"
   ]
  },
  {
   "cell_type": "code",
   "execution_count": 29,
   "id": "07c8a2a7",
   "metadata": {},
   "outputs": [
    {
     "name": "stdout",
     "output_type": "stream",
     "text": [
      "       Full Name First Name Last Name\n",
      "0    Alice Smith      Alice     Smith\n",
      "1    Bob Johnson        Bob   Johnson\n",
      "2  Charlie Brown    Charlie     Brown\n"
     ]
    },
    {
     "name": "stderr",
     "output_type": "stream",
     "text": [
      "C:\\Users\\Tcc\\AppData\\Local\\Temp\\ipykernel_14640\\2446725248.py:8: FutureWarning: In a future version of pandas all arguments of StringMethods.split except for the argument 'pat' will be keyword-only.\n",
      "  df[['First Name', 'Last Name']] = df['Full Name'].str.split(' ', 1, expand=True)\n"
     ]
    }
   ],
   "source": [
    "#Split a text column into two columns in Pandas DataFrame\n",
    "\n",
    "# Create a sample DataFrame\n",
    "data = {'Full Name': ['Alice Smith', 'Bob Johnson', 'Charlie Brown']}\n",
    "df = pd.DataFrame(data)\n",
    "\n",
    "# Split the 'Full Name' column into 'First Name' and 'Last Name'\n",
    "df[['First Name', 'Last Name']] = df['Full Name'].str.split(' ', 1, expand=True)\n",
    "\n",
    "print(df)\n"
   ]
  },
  {
   "cell_type": "code",
   "execution_count": 31,
   "id": "097b6838",
   "metadata": {},
   "outputs": [
    {
     "name": "stdout",
     "output_type": "stream",
     "text": [
      "3\n"
     ]
    }
   ],
   "source": [
    "#Get the index of minimum value in DataFrame column\n",
    "\n",
    "# Create a sample DataFrame\n",
    "data = {'Name': ['Alice', 'Bob', 'Charlie', 'David', 'Eve'],\n",
    "        'Age': [25, 30, 35, 20, 45]}\n",
    "df = pd.DataFrame(data)\n",
    "\n",
    "# Get the index of the minimum value in the 'Age' column\n",
    "min_index = df['Age'].argmin()\n",
    "\n",
    "print(min_index)\n"
   ]
  },
  {
   "cell_type": "code",
   "execution_count": 33,
   "id": "7bbc3a14",
   "metadata": {},
   "outputs": [
    {
     "name": "stdout",
     "output_type": "stream",
     "text": [
      "4\n"
     ]
    }
   ],
   "source": [
    "#Get the index of maximum value in DataFrame column\n",
    "\n",
    "# Create a sample DataFrame\n",
    "data = {'Name': ['Alice', 'Bob', 'Charlie', 'David', 'Eve'],\n",
    "        'Age': [25, 30, 35, 20, 45]}\n",
    "df = pd.DataFrame(data)\n",
    "\n",
    "# Get the index of the maximum value in the 'Age' column\n",
    "max_index = df['Age'].argmax()\n",
    "\n",
    "print(max_index)\n"
   ]
  },
  {
   "cell_type": "code",
   "execution_count": 34,
   "id": "4aa816c1",
   "metadata": {},
   "outputs": [
    {
     "name": "stdout",
     "output_type": "stream",
     "text": [
      "    A   B  Difference\n",
      "0  10   5           5\n",
      "1  20  12           8\n",
      "2  30  25           5\n",
      "3  40  35           5\n",
      "4  50  45           5\n"
     ]
    }
   ],
   "source": [
    "#Difference of two columns in Pandas dataframe\n",
    "\n",
    "# Create a sample DataFrame\n",
    "data = {'A': [10, 20, 30, 40, 50],\n",
    "        'B': [5, 12, 25, 35, 45]}\n",
    "df = pd.DataFrame(data)\n",
    "\n",
    "# Calculate the difference between columns 'A' and 'B'\n",
    "df['Difference'] = df['A'] - df['B']\n",
    "\n",
    "print(df)\n"
   ]
  },
  {
   "cell_type": "code",
   "execution_count": 35,
   "id": "941d7d60",
   "metadata": {},
   "outputs": [
    {
     "name": "stdout",
     "output_type": "stream",
     "text": [
      "4    45\n",
      "2    35\n",
      "1    30\n",
      "Name: Age, dtype: int64\n"
     ]
    }
   ],
   "source": [
    "#Get n-largest values from a particular column in Pandas DataFrame\n",
    "\n",
    "# Create a sample DataFrame\n",
    "data = {'Name': ['Alice', 'Bob', 'Charlie', 'David', 'Eve'],\n",
    "        'Age': [25, 30, 35, 20, 45]}\n",
    "df = pd.DataFrame(data)\n",
    "\n",
    "# Get the 3 largest values from the 'Age' column\n",
    "n_largest = df['Age'].nlargest(3)\n",
    "\n",
    "print(n_largest)\n"
   ]
  },
  {
   "cell_type": "code",
   "execution_count": 36,
   "id": "fa2b7b77",
   "metadata": {},
   "outputs": [
    {
     "name": "stdout",
     "output_type": "stream",
     "text": [
      "3    20\n",
      "0    25\n",
      "Name: Age, dtype: int64\n"
     ]
    }
   ],
   "source": [
    "#Get n-smallest values from a particular column in Pandas DataFrame\n",
    "\n",
    "# Create a sample DataFrame\n",
    "data = {'Name': ['Alice', 'Bob', 'Charlie', 'David', 'Eve'],\n",
    "        'Age': [25, 30, 35, 20, 45]}\n",
    "df = pd.DataFrame(data)\n",
    "\n",
    "# Get the 2 smallest values from the 'Age' column\n",
    "n_smallest = df['Age'].nsmallest(2)\n",
    "\n",
    "print(n_smallest)\n"
   ]
  },
  {
   "cell_type": "code",
   "execution_count": 37,
   "id": "9973f755",
   "metadata": {},
   "outputs": [
    {
     "name": "stdout",
     "output_type": "stream",
     "text": [
      "      Name  Age\n",
      "0    Alice   25\n",
      "1      Bob   30\n",
      "2  Charlie   35\n"
     ]
    }
   ],
   "source": [
    "#How to drop one or multiple columns in Pandas Dataframe\n",
    "\n",
    "# Create a sample DataFrame\n",
    "data = {'Name': ['Alice', 'Bob', 'Charlie'],\n",
    "        'Age': [25, 30, 35],\n",
    "        'Gender': ['Female', 'Male', 'Male'],\n",
    "        'Salary': [50000, 60000, 70000]}\n",
    "df = pd.DataFrame(data)\n",
    "\n",
    "# Drop the 'Gender' and 'Salary' columns\n",
    "df = df.drop(columns=['Gender', 'Salary'])\n",
    "\n",
    "print(df)\n",
    "\n",
    "\n"
   ]
  },
  {
   "cell_type": "markdown",
   "id": "90018024",
   "metadata": {},
   "source": [
    "# 9. Pandas Series - Practise Excercise"
   ]
  },
  {
   "cell_type": "code",
   "execution_count": 3,
   "id": "0e3986bf",
   "metadata": {},
   "outputs": [
    {
     "name": "stdout",
     "output_type": "stream",
     "text": [
      "0    10\n",
      "1    20\n",
      "2    30\n",
      "3    40\n",
      "4    50\n",
      "dtype: int32\n"
     ]
    }
   ],
   "source": [
    "#Create a Pandas Series from array\n",
    "\n",
    "\n",
    "# Create an array\n",
    "my_array = np.array([10, 20, 30, 40, 50])\n",
    "\n",
    "# Create a Pandas Series from the array\n",
    "my_series = pd.Series(my_array)\n",
    "\n",
    "# Print the Series\n",
    "print(my_series)\n"
   ]
  },
  {
   "cell_type": "code",
   "execution_count": 4,
   "id": "6fab75ae",
   "metadata": {},
   "outputs": [
    {
     "name": "stdout",
     "output_type": "stream",
     "text": [
      "A    10\n",
      "B    20\n",
      "C    30\n",
      "D    40\n",
      "E    50\n",
      "dtype: int64\n"
     ]
    }
   ],
   "source": [
    "#Creating a Pandas Series from Dictionary\n",
    "\n",
    "# Create a dictionary\n",
    "my_dict = {'A': 10, 'B': 20, 'C': 30, 'D': 40, 'E': 50}\n",
    "\n",
    "# Create a Pandas Series from the dictionary\n",
    "my_series = pd.Series(my_dict)\n",
    "\n",
    "# Print the Series\n",
    "print(my_series)\n"
   ]
  },
  {
   "cell_type": "code",
   "execution_count": 5,
   "id": "2326f827",
   "metadata": {},
   "outputs": [
    {
     "name": "stdout",
     "output_type": "stream",
     "text": [
      "A    10\n",
      "B    20\n",
      "C    30\n",
      "D    40\n",
      "E    50\n",
      "dtype: int64\n"
     ]
    }
   ],
   "source": [
    "# Creating a Pandas Series from Lists\n",
    "import pandas as pd\n",
    "\n",
    "# Create a list\n",
    "data_list = [10, 20, 30, 40, 50]\n",
    "index_list = ['A', 'B', 'C', 'D', 'E']\n",
    "\n",
    "# Create a Pandas Series from the lists\n",
    "my_series = pd.Series(data_list, index=index_list)\n",
    "\n",
    "# Print the Series\n",
    "print(my_series)\n"
   ]
  },
  {
   "cell_type": "code",
   "execution_count": 6,
   "id": "08646b3d",
   "metadata": {},
   "outputs": [
    {
     "name": "stdout",
     "output_type": "stream",
     "text": [
      "0    0.00\n",
      "1    0.25\n",
      "2    0.50\n",
      "3    0.75\n",
      "4    1.00\n",
      "dtype: float64\n"
     ]
    }
   ],
   "source": [
    "#Create Pandas Series using NumPy functions\n",
    "\n",
    "# Create an array using NumPy functions\n",
    "my_array = np.linspace(0, 1, num=5)  # Generates 5 evenly spaced values between 0 and 1\n",
    "\n",
    "# Create a Pandas Series from the array\n",
    "my_series = pd.Series(my_array)\n",
    "\n",
    "# Print the Series\n",
    "print(my_series)\n"
   ]
  },
  {
   "cell_type": "code",
   "execution_count": 7,
   "id": "7892041d",
   "metadata": {},
   "outputs": [
    {
     "name": "stdout",
     "output_type": "stream",
     "text": [
      "20\n"
     ]
    }
   ],
   "source": [
    "# Access the elements of a Series in Pandas\n",
    "\n",
    "\n",
    "# Create a Series\n",
    "my_series = pd.Series([10, 20, 30, 40, 50])\n",
    "\n",
    "# Access the second element of the Series\n",
    "value = my_series[1]\n",
    "\n",
    "print(value)\n"
   ]
  },
  {
   "cell_type": "markdown",
   "id": "b068c9fe",
   "metadata": {},
   "source": [
    "# 10. Pandas Datetime Excercise"
   ]
  },
  {
   "cell_type": "code",
   "execution_count": 8,
   "id": "748b07f6",
   "metadata": {},
   "outputs": [
    {
     "name": "stdout",
     "output_type": "stream",
     "text": [
      "        Date  Value\n",
      "0 2021-05-01     10\n",
      "1 2021-06-01     20\n",
      "2 2021-07-01     30\n",
      "3 2021-08-01     40\n"
     ]
    }
   ],
   "source": [
    "#Convert the column type from string to datetime format in Pandas dataframe\n",
    "\n",
    "\n",
    "# Create a sample DataFrame\n",
    "data = {'Date': ['2021-05-01', '2021-06-01', '2021-07-01', '2021-08-01'],\n",
    "        'Value': [10, 20, 30, 40]}\n",
    "\n",
    "df = pd.DataFrame(data)\n",
    "\n",
    "# Convert the 'Date' column to datetime format\n",
    "df['Date'] = pd.to_datetime(df['Date'])\n",
    "\n",
    "# Print the DataFrame with the updated column type\n",
    "print(df)\n"
   ]
  },
  {
   "cell_type": "code",
   "execution_count": null,
   "id": "eca42676",
   "metadata": {},
   "outputs": [],
   "source": []
  }
 ],
 "metadata": {
  "kernelspec": {
   "display_name": "Python 3 (ipykernel)",
   "language": "python",
   "name": "python3"
  },
  "language_info": {
   "codemirror_mode": {
    "name": "ipython",
    "version": 3
   },
   "file_extension": ".py",
   "mimetype": "text/x-python",
   "name": "python",
   "nbconvert_exporter": "python",
   "pygments_lexer": "ipython3",
   "version": "3.10.9"
  }
 },
 "nbformat": 4,
 "nbformat_minor": 5
}
