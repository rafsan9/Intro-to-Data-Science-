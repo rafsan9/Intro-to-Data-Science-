{
 "cells": [
  {
   "cell_type": "code",
   "execution_count": 1,
   "id": "732ce31b",
   "metadata": {},
   "outputs": [],
   "source": [
    "import pandas as pd"
   ]
  },
  {
   "cell_type": "code",
   "execution_count": 2,
   "id": "ddc5b982",
   "metadata": {},
   "outputs": [],
   "source": [
    "purchase_data = pd.read_csv(\"purchase.csv\")"
   ]
  },
  {
   "cell_type": "code",
   "execution_count": 3,
   "id": "a6aaa6fc",
   "metadata": {},
   "outputs": [],
   "source": [
    "boxes_data = pd.read_csv(\"boxes.csv\")"
   ]
  },
  {
   "cell_type": "code",
   "execution_count": 4,
   "id": "a8bc3c19",
   "metadata": {},
   "outputs": [
    {
     "name": "stdout",
     "output_type": "stream",
     "text": [
      "Purchase Data:\n",
      "  PURCHASE_DATE    MAGIC_KEY  BOX_ID  BOX_COUNT\n",
      "0      1/2/2019  2CED678A247    12.0        1.0\n",
      "1      1/2/2019  2BF58D91BA1    12.0        1.0\n",
      "2      1/2/2019  2C15B86534E    99.0        1.0\n",
      "3      1/2/2019  2C32D9A859A     6.0        1.0\n",
      "4      1/2/2019  2C7A55404D1     4.0        1.0\n",
      "\n",
      "Boxes Data:\n",
      "   BOX_ID  QUALITY      DELIVERY_OPTION  MILK  MEAT  UNIT_PRICE\n",
      "0       1  Premium  Home Delivery - CoD   0.0   2.7        9.96\n",
      "1       2  Premium  Home Delivery - CoD   0.0   2.3       11.96\n",
      "2       3  Premium  Home Delivery - CoD   0.0   2.4       11.96\n",
      "3       4  Premium  Home Delivery - CoD   0.0   2.5       11.96\n",
      "4       5  Premium  Home Delivery - CoD   0.0   2.6       11.96\n"
     ]
    }
   ],
   "source": [
    "print(\"Purchase Data:\")\n",
    "print(purchase_data.head())\n",
    "\n",
    "print(\"\\nBoxes Data:\")\n",
    "print(boxes_data.head())"
   ]
  },
  {
   "cell_type": "code",
   "execution_count": 5,
   "id": "fb7378d1",
   "metadata": {},
   "outputs": [
    {
     "name": "stderr",
     "output_type": "stream",
     "text": [
      "C:\\Users\\USER\\AppData\\Local\\Temp\\ipykernel_5656\\3825074868.py:2: UserWarning: Parsing dates in DD/MM/YYYY format when dayfirst=False (the default) was specified. This may lead to inconsistently parsed dates! Specify a format to ensure consistent parsing.\n",
      "  purchase_data['PURCHASE_DATE'] = pd.to_datetime(purchase_data['PURCHASE_DATE'])\n"
     ]
    },
    {
     "name": "stdout",
     "output_type": "stream",
     "text": [
      "<class 'pandas.core.frame.DataFrame'>\n",
      "RangeIndex: 2455864 entries, 0 to 2455863\n",
      "Data columns (total 4 columns):\n",
      " #   Column         Dtype         \n",
      "---  ------         -----         \n",
      " 0   PURCHASE_DATE  datetime64[ns]\n",
      " 1   MAGIC_KEY      object        \n",
      " 2   BOX_ID         float64       \n",
      " 3   BOX_COUNT      float64       \n",
      "dtypes: datetime64[ns](1), float64(2), object(1)\n",
      "memory usage: 74.9+ MB\n",
      "None\n"
     ]
    }
   ],
   "source": [
    "# Convert PURCHASE_DATE column to datetime\n",
    "purchase_data['PURCHASE_DATE'] = pd.to_datetime(purchase_data['PURCHASE_DATE'])\n",
    "\n",
    "# Verify the conversion\n",
    "print(purchase_data.info())\n"
   ]
  },
  {
   "cell_type": "code",
   "execution_count": 6,
   "id": "cc08bf3f",
   "metadata": {},
   "outputs": [],
   "source": [
    "# Convert PURCHASE_DATE column to datetime with explicit date format\n",
    "purchase_data['PURCHASE_DATE'] = pd.to_datetime(purchase_data['PURCHASE_DATE'], format='%d/%m/%Y')\n"
   ]
  },
  {
   "cell_type": "code",
   "execution_count": 7,
   "id": "06c338c9",
   "metadata": {},
   "outputs": [
    {
     "name": "stdout",
     "output_type": "stream",
     "text": [
      "Purchases made in March 2019:\n",
      "      PURCHASE_DATE    MAGIC_KEY  BOX_ID  BOX_COUNT\n",
      "38848    2019-03-02  2CFFEB7C059     3.0        1.0\n",
      "38849    2019-03-02  2BF4E749300     3.0        1.0\n",
      "38850    2019-03-02  2CF036F3423     6.0        1.0\n",
      "38851    2019-03-02  2C9ECD3EB20     4.0        1.0\n",
      "38852    2019-03-02  2CCB4D2BE0C     4.0        1.0\n"
     ]
    }
   ],
   "source": [
    "# Define the start and end dates for March 2019\n",
    "start_date = '2019-03-01'\n",
    "end_date = '2019-03-15'\n",
    "\n",
    "# Create a boolean mask to filter purchases made in March 2019\n",
    "mask = (purchase_data['PURCHASE_DATE'] >= start_date) & (purchase_data['PURCHASE_DATE'] <= end_date)\n",
    "\n",
    "# Apply the mask to filter the data\n",
    "purchases_march = purchase_data[mask]\n",
    "\n",
    "# Display the filtered data\n",
    "print(\"Purchases made in March 2019:\")\n",
    "print(purchases_march.head())\n"
   ]
  },
  {
   "cell_type": "code",
   "execution_count": 8,
   "id": "333cf856",
   "metadata": {},
   "outputs": [
    {
     "name": "stdout",
     "output_type": "stream",
     "text": [
      "Unique customers who made purchases in March 2019:\n",
      "['2CFFEB7C059' '2BF4E749300' '2CF036F3423' ... '2CAC6323DD6' '2BDF110D272'\n",
      " '2CAB9393431']\n"
     ]
    }
   ],
   "source": [
    "# Identify unique customers who made purchases in March 2019\n",
    "unique_customers_march = purchases_march['MAGIC_KEY'].unique()\n",
    "\n",
    "# Display the unique customer identifiers\n",
    "print(\"Unique customers who made purchases in March 2019:\")\n",
    "print(unique_customers_march)\n"
   ]
  },
  {
   "cell_type": "code",
   "execution_count": 9,
   "id": "4ac55406",
   "metadata": {},
   "outputs": [
    {
     "name": "stdout",
     "output_type": "stream",
     "text": [
      "Merged Data:\n",
      "  PURCHASE_DATE    MAGIC_KEY  BOX_ID  BOX_COUNT  QUALITY      DELIVERY_OPTION  \\\n",
      "0    2019-03-02  2CFFEB7C059     3.0        1.0  Premium  Home Delivery - CoD   \n",
      "1    2019-03-02  2BF4E749300     3.0        1.0  Premium  Home Delivery - CoD   \n",
      "2    2019-03-02  2CCFB3F534A     3.0        1.0  Premium  Home Delivery - CoD   \n",
      "3    2019-03-02  2C265CD09BA     3.0        1.0  Premium  Home Delivery - CoD   \n",
      "4    2019-03-02  2C0FE2A3EC6     3.0        1.0  Premium  Home Delivery - CoD   \n",
      "\n",
      "   MILK  MEAT  UNIT_PRICE  \n",
      "0   0.0   2.4       11.96  \n",
      "1   0.0   2.4       11.96  \n",
      "2   0.0   2.4       11.96  \n",
      "3   0.0   2.4       11.96  \n",
      "4   0.0   2.4       11.96  \n"
     ]
    }
   ],
   "source": [
    "# Filter purchase data to include only purchases made by unique customers in March 2019\n",
    "purchases_march_unique = purchases_march[purchases_march['MAGIC_KEY'].isin(unique_customers_march)]\n",
    "\n",
    "# Merge filtered purchase data with boxes data to obtain information about the quantity of meat purchased\n",
    "merged_data = pd.merge(purchases_march_unique, boxes_data, on='BOX_ID', how='inner')\n",
    "\n",
    "# Display the merged data\n",
    "print(\"Merged Data:\")\n",
    "print(merged_data.head())\n"
   ]
  },
  {
   "cell_type": "code",
   "execution_count": 10,
   "id": "b6c98793",
   "metadata": {},
   "outputs": [
    {
     "name": "stdout",
     "output_type": "stream",
     "text": [
      "Total quantity of meat purchased in March 2019: 81763.50000000001\n"
     ]
    }
   ],
   "source": [
    "# Calculate the total quantity of meat purchased\n",
    "total_meat_purchased = (merged_data['MEAT'] * merged_data['BOX_COUNT']).sum()\n",
    "\n",
    "# Display the total quantity of meat purchased\n",
    "print(\"Total quantity of meat purchased in March 2019:\", total_meat_purchased)\n"
   ]
  },
  {
   "cell_type": "code",
   "execution_count": null,
   "id": "becaaa30",
   "metadata": {},
   "outputs": [],
   "source": []
  }
 ],
 "metadata": {
  "kernelspec": {
   "display_name": "Python 3 (ipykernel)",
   "language": "python",
   "name": "python3"
  },
  "language_info": {
   "codemirror_mode": {
    "name": "ipython",
    "version": 3
   },
   "file_extension": ".py",
   "mimetype": "text/x-python",
   "name": "python",
   "nbconvert_exporter": "python",
   "pygments_lexer": "ipython3",
   "version": "3.10.9"
  }
 },
 "nbformat": 4,
 "nbformat_minor": 5
}
