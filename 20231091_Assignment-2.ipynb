{
 "cells": [
  {
   "cell_type": "markdown",
   "id": "e8ae0250-ed53-427c-886e-784ca483f1ea",
   "metadata": {},
   "source": [
    "### We need to install the lifelines library "
   ]
  },
  {
   "cell_type": "code",
   "execution_count": null,
   "id": "6e80632f-e679-45ee-bcae-cfb3344a8fdc",
   "metadata": {},
   "outputs": [],
   "source": [
    "# Install the library\n",
    "!pip install lifelines\n"
   ]
  },
  {
   "cell_type": "markdown",
   "id": "cd0c1065-147b-4395-9695-c5f64d7c8a94",
   "metadata": {},
   "source": [
    "## Q1: Assume that the dataset contains information on survival times and a binary variable indicating whether an event of interest occurred (1) or not (0).\n",
    "\n",
    "   Patient      Survival Time (months)      Event (1=Yes, 0=No)\n",
    "  \n",
    "        1                      12                     1\n",
    "        2                       9                     1\n",
    "        3                      15                     0\n",
    "        4                       6                     1\n",
    "        5                      18                     0\n",
    "        6                       8                     1\n",
    "        7                      10                     1\n",
    "        8                      14                     0\n",
    "        9                       7                     1\n",
    "       10                      11                     1"
   ]
  },
  {
   "cell_type": "markdown",
   "id": "25bd6450-5dc8-465a-bd44-73beeee1348c",
   "metadata": {},
   "source": [
    "### (i) Calculate the Kaplan-Meier estimate of the survival function:"
   ]
  },
  {
   "cell_type": "code",
   "execution_count": 19,
   "id": "27f9e679-4212-4230-85a8-00ef3b269531",
   "metadata": {},
   "outputs": [
    {
     "name": "stdout",
     "output_type": "stream",
     "text": [
      "          KM_estimate\n",
      "timeline             \n",
      "0.0               1.0\n",
      "6.0               0.9\n",
      "7.0               0.8\n",
      "8.0               0.7\n",
      "9.0               0.6\n",
      "10.0              0.5\n",
      "11.0              0.4\n",
      "12.0              0.3\n",
      "14.0              0.3\n",
      "15.0              0.3\n",
      "18.0              0.3\n"
     ]
    }
   ],
   "source": [
    "from lifelines import KaplanMeierFitter\n",
    "import pandas as pd\n",
    "\n",
    "# Create a DataFrame with the provided data\n",
    "data = pd.DataFrame({\n",
    "    'Survival Time (months)': [12, 9, 15, 6, 18, 8, 10, 14, 7, 11],\n",
    "    'Event': [1, 1, 0, 1, 0, 1, 1, 0, 1, 1]\n",
    "})\n",
    "\n",
    "# Fit Kaplan-Meier estimator\n",
    "kmf = KaplanMeierFitter()\n",
    "kmf.fit(data['Survival Time (months)'], event_observed=data['Event'])\n",
    "\n",
    "# Print Kaplan-Meier estimate\n",
    "print(kmf.survival_function_)\n"
   ]
  },
  {
   "cell_type": "markdown",
   "id": "36b3c1a2-d068-49af-8903-19929402073f",
   "metadata": {},
   "source": [
    "### (ii) Determine the median survival time based on the Kaplan-Meier estimate:"
   ]
  },
  {
   "cell_type": "code",
   "execution_count": 20,
   "id": "50180f3a-f3d6-4fc8-a4fd-ef20e52a42e0",
   "metadata": {},
   "outputs": [
    {
     "name": "stdout",
     "output_type": "stream",
     "text": [
      "Median survival time: 10.0\n"
     ]
    }
   ],
   "source": [
    "# Calculate median survival time\n",
    "median_survival_time = kmf.median_survival_time_\n",
    "print(\"Median survival time:\", median_survival_time)\n"
   ]
  },
  {
   "cell_type": "markdown",
   "id": "6558c5d8-ad73-4856-bf17-a2b0102955e7",
   "metadata": {},
   "source": [
    "### (iii) Perform the log-rank test to compare survival curves for patients with and without events:"
   ]
  },
  {
   "cell_type": "code",
   "execution_count": 21,
   "id": "2d2f9eb9-fc6b-41ec-b5d7-914b1df0e639",
   "metadata": {},
   "outputs": [
    {
     "name": "stdout",
     "output_type": "stream",
     "text": [
      "<lifelines.StatisticalResult: logrank_test>\n",
      "               t_0 = -1\n",
      " null_distribution = chi squared\n",
      "degrees_of_freedom = 1\n",
      "         test_name = logrank_test\n",
      "\n",
      "---\n",
      " test_statistic    p  -log2(p)\n",
      "           6.80 0.01      6.78\n"
     ]
    }
   ],
   "source": [
    "from lifelines.statistics import logrank_test\n",
    "\n",
    "# Separate data based on Event\n",
    "event_1 = data[data['Event'] == 1]['Survival Time (months)']\n",
    "event_0 = data[data['Event'] == 0]['Survival Time (months)']\n",
    "\n",
    "# Perform log-rank test\n",
    "results = logrank_test(event_1, event_0)\n",
    "print(results)\n"
   ]
  },
  {
   "cell_type": "markdown",
   "id": "27e23545-0a81-445f-b6ba-b158be372daa",
   "metadata": {},
   "source": [
    "### (iv) Fit a Cox Proportional-Hazards model with the covariate 'Event' as the only predictor:"
   ]
  },
  {
   "cell_type": "code",
   "execution_count": 22,
   "id": "5aecefd8-659f-4d00-9de4-2daf302778a0",
   "metadata": {},
   "outputs": [
    {
     "name": "stdout",
     "output_type": "stream",
     "text": [
      "Empty DataFrame\n",
      "Columns: [coef, exp(coef), se(coef), coef lower 95%, coef upper 95%, exp(coef) lower 95%, exp(coef) upper 95%, cmp to, z, p, -log2(p)]\n",
      "Index: []\n"
     ]
    }
   ],
   "source": [
    "from lifelines import CoxPHFitter\n",
    "\n",
    "# Fit Cox Proportional-Hazards model\n",
    "cph = CoxPHFitter()\n",
    "cph.fit(data, duration_col='Survival Time (months)', event_col='Event')\n",
    "\n",
    "# Print hazard ratios\n",
    "print(cph.summary)\n"
   ]
  },
  {
   "cell_type": "markdown",
   "id": "fc1f3c6d-da96-4991-9ce3-ccb878687a86",
   "metadata": {},
   "source": [
    "### (v) Calculate the 95% confidence interval for the hazard ratio:"
   ]
  },
  {
   "cell_type": "code",
   "execution_count": 23,
   "id": "a425510a-189d-42b3-9f54-894dbd3d4bcb",
   "metadata": {},
   "outputs": [
    {
     "name": "stdout",
     "output_type": "stream",
     "text": [
      "Empty DataFrame\n",
      "Columns: [95% lower-bound, 95% upper-bound]\n",
      "Index: []\n"
     ]
    }
   ],
   "source": [
    "# Get confidence intervals for hazard ratios\n",
    "conf_intervals = cph.confidence_intervals_\n",
    "print(conf_intervals)\n"
   ]
  },
  {
   "cell_type": "code",
   "execution_count": null,
   "id": "09e3b2ba-889c-4b8f-89af-0aa3a09cba26",
   "metadata": {},
   "outputs": [],
   "source": []
  },
  {
   "cell_type": "markdown",
   "id": "79d9328a-e9de-4f9d-829d-f94a032c60cb",
   "metadata": {},
   "source": [
    "## Q2: Assume that the dataset contains information on survival times, a binary variable indicating whether an event of interest occurred (1) or not (0), and a categorical variable representing different treatment groups.\n",
    "\n",
    "  "
   ]
  },
  {
   "cell_type": "markdown",
   "id": "0d2ebb24-1d0e-4e35-a4c5-593cc076cc20",
   "metadata": {},
   "source": [
    "### (i). Identify the tied observations in the dataset. Explain how tied observations impact the calculation of the Kaplan-Meier estimate for the survival function."
   ]
  },
  {
   "cell_type": "code",
   "execution_count": 24,
   "id": "7416d2f0-8ba3-4759-a2d5-70080200deda",
   "metadata": {},
   "outputs": [
    {
     "name": "stdout",
     "output_type": "stream",
     "text": [
      "Tied Observations:\n",
      "    Patient  Survival Time  Event Treatment Group\n",
      "6         7             10      1               A\n",
      "7         8             14      0               B\n",
      "10       11             10      1               A\n",
      "11       12             14      0               B\n"
     ]
    }
   ],
   "source": [
    "import pandas as pd\n",
    "\n",
    "# Create the dataset\n",
    "data = {\n",
    "    'Patient': list(range(1, 13)),\n",
    "    'Survival Time': [12, 9, 15, 6, 18, 8, 10, 14, 7, 11, 10, 14],\n",
    "    'Event': [1, 1, 0, 1, 0, 1, 1, 0, 1, 1, 1, 0],\n",
    "    'Treatment Group': ['A', 'B', 'A', 'B', 'A', 'B', 'A', 'B', 'A', 'B', 'A', 'B']\n",
    "}\n",
    "\n",
    "df = pd.DataFrame(data)\n",
    "\n",
    "# Identify tied observations\n",
    "tied_obs = df[df.duplicated(subset=['Survival Time', 'Event'], keep=False)]\n",
    "print(\"Tied Observations:\")\n",
    "print(tied_obs)\n"
   ]
  },
  {
   "cell_type": "markdown",
   "id": "ea108865-d244-4347-8c28-7b6e61ccf2bb",
   "metadata": {},
   "source": [
    "### (ii). Calculate the Kaplan-Meier estimate of the survival function, considering the tied observations. Show the step-by-step calculations and the product-limit formula for each time point."
   ]
  },
  {
   "cell_type": "code",
   "execution_count": 25,
   "id": "3aa6097c-1aab-4404-9412-635b90a448cc",
   "metadata": {},
   "outputs": [
    {
     "name": "stdout",
     "output_type": "stream",
     "text": [
      "Kaplan-Meier Estimate:\n",
      "          KM_estimate\n",
      "timeline             \n",
      "0.0          1.000000\n",
      "6.0          0.916667\n",
      "7.0          0.833333\n",
      "8.0          0.750000\n",
      "9.0          0.666667\n",
      "10.0         0.500000\n",
      "11.0         0.416667\n",
      "12.0         0.333333\n",
      "14.0         0.333333\n",
      "15.0         0.333333\n",
      "18.0         0.333333\n"
     ]
    }
   ],
   "source": [
    "from lifelines import KaplanMeierFitter\n",
    "\n",
    "# Fit Kaplan-Meier estimator\n",
    "kmf = KaplanMeierFitter()\n",
    "kmf.fit(durations=df['Survival Time'], event_observed=df['Event'])\n",
    "\n",
    "# Print Kaplan-Meier estimate\n",
    "print(\"Kaplan-Meier Estimate:\")\n",
    "print(kmf.survival_function_)\n"
   ]
  },
  {
   "cell_type": "markdown",
   "id": "509b7142-2c87-4802-897f-d60805b1ad61",
   "metadata": {},
   "source": [
    "### (iii). Determine the median survival time based on the Kaplan-Meier estimate, considering the tied observations. Discuss any adjustments made for tied data."
   ]
  },
  {
   "cell_type": "code",
   "execution_count": 26,
   "id": "6b639011-dc31-4c74-be61-d9356b2a21f5",
   "metadata": {},
   "outputs": [
    {
     "name": "stdout",
     "output_type": "stream",
     "text": [
      "Median Survival Time: 10.0\n"
     ]
    }
   ],
   "source": [
    "# Calculate median survival time\n",
    "median_survival_time = kmf.median_survival_time_\n",
    "print(\"Median Survival Time:\", median_survival_time)\n"
   ]
  },
  {
   "cell_type": "markdown",
   "id": "35327d89-5884-400a-b812-f3f171d8c2c8",
   "metadata": {},
   "source": [
    "### (iv). Perform the log-rank test to compare the survival curves. Take into account the tied observations, and show the relevant calculations. Interpret the results of the test."
   ]
  },
  {
   "cell_type": "code",
   "execution_count": 35,
   "id": "1bdc2f0a-e34c-4b95-bd8c-1f89a29aeac8",
   "metadata": {},
   "outputs": [
    {
     "name": "stdout",
     "output_type": "stream",
     "text": [
      "Log-Rank Test Summary:\n",
      "<lifelines.StatisticalResult: logrank_test>\n",
      "               t_0 = -1\n",
      " null_distribution = chi squared\n",
      "degrees_of_freedom = 1\n",
      "         test_name = logrank_test\n",
      "\n",
      "---\n",
      " test_statistic    p  -log2(p)\n",
      "           0.11 0.74      0.43\n"
     ]
    }
   ],
   "source": [
    "from lifelines.statistics import logrank_test\n",
    "\n",
    "# Splitting the dataset by treatment group\n",
    "treatment_A = (df['Treatment Group'] == 'A')\n",
    "treatment_B = (df['Treatment Group'] == 'B')\n",
    "\n",
    "# Perform log-rank test\n",
    "results = logrank_test(df[treatment_A]['Survival Time'], df[treatment_B]['Survival Time'], \n",
    "                       df[treatment_A]['Event'], df[treatment_B]['Event'])\n",
    "\n",
    "# Print summary\n",
    "print(\"Log-Rank Test Summary:\")\n",
    "print(results)\n"
   ]
  },
  {
   "cell_type": "markdown",
   "id": "316fad18-0585-4c67-a59f-610ae5f6c49c",
   "metadata": {},
   "source": [
    "### (v) Fitting a Cox Proportional-Hazards model:"
   ]
  },
  {
   "cell_type": "code",
   "execution_count": 37,
   "id": "b3a17390-f338-4176-9cfb-8b7ee7e3d481",
   "metadata": {},
   "outputs": [
    {
     "name": "stdout",
     "output_type": "stream",
     "text": [
      "Cox Proportional-Hazards Model Summary:\n",
      "                       coef  exp(coef)  se(coef)  coef lower 95%  \\\n",
      "covariate                                                          \n",
      "Patient           -0.052603   0.948757  0.113171       -0.274413   \n",
      "Treatment Group_B  0.409812   1.506535  0.844276       -1.244939   \n",
      "\n",
      "                   coef upper 95%  exp(coef) lower 95%  exp(coef) upper 95%  \\\n",
      "covariate                                                                     \n",
      "Patient                  0.169208             0.760018             1.184367   \n",
      "Treatment Group_B        2.064563             0.287959             7.881851   \n",
      "\n",
      "                   cmp to         z         p  -log2(p)  \n",
      "covariate                                                \n",
      "Patient               0.0 -0.464806  0.642070  0.639197  \n",
      "Treatment Group_B     0.0  0.485401  0.627392  0.672561  \n"
     ]
    }
   ],
   "source": [
    "from lifelines import CoxPHFitter\n",
    "\n",
    "# Perform one-hot encoding for 'Treatment Group'\n",
    "df_encoded = pd.get_dummies(df, columns=['Treatment Group'], drop_first=True)\n",
    "\n",
    "# Fit Cox Proportional-Hazards model\n",
    "cph = CoxPHFitter()\n",
    "cph.fit(df_encoded, duration_col='Survival Time', event_col='Event')\n",
    "\n",
    "# Print model summary\n",
    "print(\"Cox Proportional-Hazards Model Summary:\")\n",
    "print(cph.summary)\n"
   ]
  },
  {
   "cell_type": "markdown",
   "id": "984b04ef-c05d-4d27-8e37-cbc5aff4a642",
   "metadata": {},
   "source": [
    "### (vi) Applying the Efron approximation:"
   ]
  },
  {
   "cell_type": "code",
   "execution_count": 38,
   "id": "afeea32f-598f-4552-bb31-ba9355c509d4",
   "metadata": {},
   "outputs": [
    {
     "name": "stdout",
     "output_type": "stream",
     "text": [
      "Kaplan-Meier Estimate (Efron Approximation):\n",
      "          KM_estimate\n",
      "timeline             \n",
      "0.0          1.000000\n",
      "6.0          0.888889\n",
      "7.0          0.833333\n",
      "8.0          0.722222\n",
      "9.0          0.611111\n",
      "10.0         0.500000\n",
      "11.0         0.388889\n",
      "12.0         0.333333\n",
      "14.0         0.333333\n",
      "15.0         0.333333\n",
      "18.0         0.333333\n"
     ]
    }
   ],
   "source": [
    "# Fit Kaplan-Meier estimator using Efron approximation\n",
    "kmf_efron = KaplanMeierFitter()\n",
    "kmf_efron.fit(durations=df['Survival Time'], event_observed=df['Event'], \n",
    "              weights=df['Treatment Group'].map({'A': 1, 'B': 2}))\n",
    "\n",
    "# Print Kaplan-Meier estimate with Efron approximation\n",
    "print(\"Kaplan-Meier Estimate (Efron Approximation):\")\n",
    "print(kmf_efron.survival_function_)\n"
   ]
  },
  {
   "cell_type": "markdown",
   "id": "aa17988e-9b46-4e74-b4a1-2184e1db6f7f",
   "metadata": {},
   "source": [
    "### (vii) Comparing results from Breslow method and Efron approximation:"
   ]
  },
  {
   "cell_type": "code",
   "execution_count": 39,
   "id": "d422f43c-6c3f-4284-9183-75f24dfa7e4d",
   "metadata": {},
   "outputs": [
    {
     "name": "stdout",
     "output_type": "stream",
     "text": [
      "Kaplan-Meier Estimate (Breslow Method):\n",
      "          KM_estimate\n",
      "timeline             \n",
      "0.0          1.000000\n",
      "6.0          0.916667\n",
      "7.0          0.833333\n",
      "8.0          0.750000\n",
      "9.0          0.666667\n",
      "10.0         0.500000\n",
      "11.0         0.416667\n",
      "12.0         0.333333\n",
      "14.0         0.333333\n",
      "15.0         0.333333\n",
      "18.0         0.333333\n"
     ]
    }
   ],
   "source": [
    "# Print Kaplan-Meier estimate with Breslow method for comparison\n",
    "print(\"Kaplan-Meier Estimate (Breslow Method):\")\n",
    "print(kmf.survival_function_)\n"
   ]
  }
 ],
 "metadata": {
  "kernelspec": {
   "display_name": "Python 3",
   "language": "python",
   "name": "python3"
  },
  "language_info": {
   "codemirror_mode": {
    "name": "ipython",
    "version": 3
   },
   "file_extension": ".py",
   "mimetype": "text/x-python",
   "name": "python",
   "nbconvert_exporter": "python",
   "pygments_lexer": "ipython3",
   "version": "3.8.8"
  }
 },
 "nbformat": 4,
 "nbformat_minor": 5
}
