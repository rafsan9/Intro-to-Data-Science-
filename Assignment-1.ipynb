{
 "cells": [
  {
   "cell_type": "markdown",
   "id": "fd4834bb",
   "metadata": {},
   "source": [
    "# Assignment-1"
   ]
  },
  {
   "cell_type": "markdown",
   "id": "788a089b",
   "metadata": {},
   "source": [
    "# Name: Md. Rafsan Jamil\n",
    "# Roll:20231056"
   ]
  },
  {
   "cell_type": "markdown",
   "id": "4b48c065",
   "metadata": {},
   "source": [
    "# Python : Variables"
   ]
  },
  {
   "cell_type": "code",
   "execution_count": null,
   "id": "b34a9e3e",
   "metadata": {},
   "outputs": [],
   "source": [
    "x = input(\"Enter a number: \")\n",
    "print(\"The entered number is:\", x)\n"
   ]
  },
  {
   "cell_type": "code",
   "execution_count": 22,
   "id": "2e9527c3",
   "metadata": {},
   "outputs": [
    {
     "name": "stdout",
     "output_type": "stream",
     "text": [
      "The data type of x is: <class 'str'>\n"
     ]
    }
   ],
   "source": [
    "\n",
    "print(\"The data type of x is:\", type(x))\n"
   ]
  },
  {
   "cell_type": "code",
   "execution_count": 23,
   "id": "8a6a298b",
   "metadata": {},
   "outputs": [],
   "source": [
    "y=int(x)"
   ]
  },
  {
   "cell_type": "code",
   "execution_count": 24,
   "id": "677c8d54",
   "metadata": {},
   "outputs": [],
   "source": [
    "z=float(x)"
   ]
  },
  {
   "cell_type": "code",
   "execution_count": 26,
   "id": "cc5723d8",
   "metadata": {},
   "outputs": [
    {
     "name": "stdout",
     "output_type": "stream",
     "text": [
      "The data types are: <class 'str'> <class 'int'> <class 'float'>\n"
     ]
    }
   ],
   "source": [
    "\n",
    "print(\"The data types are:\", type(x), type(y), type(z))\n"
   ]
  },
  {
   "cell_type": "markdown",
   "id": "92b8eb12",
   "metadata": {},
   "source": [
    "# Strings in Python"
   ]
  },
  {
   "cell_type": "code",
   "execution_count": 1,
   "id": "d9ff7ff2",
   "metadata": {},
   "outputs": [
    {
     "name": "stdout",
     "output_type": "stream",
     "text": [
      "Length of the string is: 6\n"
     ]
    }
   ],
   "source": [
    "string = \"string\"\n",
    "length = len(string)\n",
    "print(\"Length of the string is:\", length)\n"
   ]
  },
  {
   "cell_type": "code",
   "execution_count": 2,
   "id": "30c3fe63",
   "metadata": {},
   "outputs": [
    {
     "name": "stdout",
     "output_type": "stream",
     "text": [
      "Number of characters: 6\n"
     ]
    }
   ],
   "source": [
    "string = \"string\"\n",
    "character_count = 0\n",
    "\n",
    "for character in string:\n",
    "    character_count += 1\n",
    "\n",
    "print(\"Number of characters:\", character_count)\n"
   ]
  },
  {
   "cell_type": "code",
   "execution_count": 3,
   "id": "1a6c7857",
   "metadata": {},
   "outputs": [
    {
     "name": "stdout",
     "output_type": "stream",
     "text": [
      "Enter a string: rafsan\n",
      "Enter the index of the character to remove: 2\n",
      "Modified string: rasan\n"
     ]
    }
   ],
   "source": [
    "string = input(\"Enter a string: \")\n",
    "k = int(input(\"Enter the index of the character to remove: \"))\n",
    "\n",
    "if k < 0 or k >= len(string):\n",
    "    print(\"Invalid index!\")\n",
    "else:\n",
    "    new_string = string[:k] + string[k+1:]\n",
    "    print(\"Modified string:\", new_string)\n"
   ]
  },
  {
   "cell_type": "code",
   "execution_count": 4,
   "id": "93276c64",
   "metadata": {},
   "outputs": [
    {
     "name": "stdout",
     "output_type": "stream",
     "text": [
      "Enter a string: rafsan\n",
      "Modified string: rfa\n"
     ]
    }
   ],
   "source": [
    "string = input(\"Enter a string: \")\n",
    "new_string = \"\"\n",
    "\n",
    "for index in range(len(string)):\n",
    "    if index % 2 == 0:\n",
    "        new_string += string[index]\n",
    "\n",
    "print(\"Modified string:\", new_string)\n"
   ]
  },
  {
   "cell_type": "code",
   "execution_count": 5,
   "id": "cf9e98a0",
   "metadata": {},
   "outputs": [
    {
     "name": "stdout",
     "output_type": "stream",
     "text": [
      "Enter a string: raasan\n",
      "Input in upper case: RAASAN\n",
      "Input in lower case: raasan\n"
     ]
    }
   ],
   "source": [
    "user_input = input(\"Enter a string: \")\n",
    "\n",
    "# Convert the input to upper case\n",
    "upper_case = user_input.upper()\n",
    "\n",
    "# Convert the input to lower case\n",
    "lower_case = user_input.lower()\n",
    "\n",
    "print(\"Input in upper case:\", upper_case)\n",
    "print(\"Input in lower case:\", lower_case)\n"
   ]
  },
  {
   "cell_type": "code",
   "execution_count": 6,
   "id": "533aa48d",
   "metadata": {},
   "outputs": [
    {
     "name": "stdout",
     "output_type": "stream",
     "text": [
      "Enter a string: rafsan\n",
      "Sorted string: aafnrs\n"
     ]
    }
   ],
   "source": [
    "string = input(\"Enter a string: \")\n",
    "sorted_string = ''.join(sorted(string))\n",
    "\n",
    "print(\"Sorted string:\", sorted_string)\n"
   ]
  },
  {
   "cell_type": "code",
   "execution_count": 7,
   "id": "1670b946",
   "metadata": {},
   "outputs": [
    {
     "name": "stdout",
     "output_type": "stream",
     "text": [
      "Enter a string: rafsan\n",
      "Reversed string: nasfar\n"
     ]
    }
   ],
   "source": [
    "string = input(\"Enter a string: \")\n",
    "reversed_string = string[::-1]\n",
    "\n",
    "print(\"Reversed string:\", reversed_string)\n"
   ]
  },
  {
   "cell_type": "code",
   "execution_count": 8,
   "id": "8a4cc0f4",
   "metadata": {},
   "outputs": [
    {
     "name": "stdout",
     "output_type": "stream",
     "text": [
      "Enter a string: rafsan\n",
      "Resulting list: ['r', 'a', 'f', 's', 'a', 'n']\n"
     ]
    }
   ],
   "source": [
    "# Prompt the user to enter a string\n",
    "user_input = input(\"Enter a string: \")\n",
    "\n",
    "# Initialize an empty list\n",
    "result_list = []\n",
    "\n",
    "# Iterate over each character in the string\n",
    "for char in user_input:\n",
    "    # Append each character to the list\n",
    "    result_list.append(char)\n",
    "\n",
    "# Print the resulting list\n",
    "print(\"Resulting list:\", result_list)\n"
   ]
  },
  {
   "cell_type": "markdown",
   "id": "62480443",
   "metadata": {},
   "source": [
    "\n",
    "# Lists"
   ]
  },
  {
   "cell_type": "code",
   "execution_count": 9,
   "id": "22664517",
   "metadata": {},
   "outputs": [
    {
     "name": "stdout",
     "output_type": "stream",
     "text": [
      "Sum: 15\n"
     ]
    }
   ],
   "source": [
    "# Sample list\n",
    "my_list = [1, 2, 3, 4, 5]\n",
    "\n",
    "# Initialize sum to 0\n",
    "sum_result = 0\n",
    "\n",
    "# Iterate over each item in the list\n",
    "for item in my_list:\n",
    "    # Add each item to the sum\n",
    "    sum_result += item\n",
    "\n",
    "# Print the sum\n",
    "print(\"Sum:\", sum_result)\n"
   ]
  },
  {
   "cell_type": "code",
   "execution_count": 11,
   "id": "51fc4e41",
   "metadata": {},
   "outputs": [
    {
     "name": "stdout",
     "output_type": "stream",
     "text": [
      "Largest number: 9\n"
     ]
    }
   ],
   "source": [
    "# Sample list\n",
    "my_list = [5, 2, 8, 1, 9, 3]\n",
    "\n",
    "# Initialize the largest number as the first item in the list\n",
    "largest_number = my_list[0]\n",
    "\n",
    "# Iterate over each item in the list\n",
    "for item in my_list:\n",
    "    # Compare each item with the current largest number\n",
    "    if item > largest_number:\n",
    "        largest_number = item\n",
    "\n",
    "# Print the largest number\n",
    "print(\"Largest number:\", largest_number)\n"
   ]
  },
  {
   "cell_type": "code",
   "execution_count": 12,
   "id": "231d6410",
   "metadata": {},
   "outputs": [
    {
     "name": "stdout",
     "output_type": "stream",
     "text": [
      "Numbers after removing even numbers: [1, 3, 5, 7, 9]\n"
     ]
    }
   ],
   "source": [
    "# Sample list\n",
    "my_list = [1, 2, 3, 4, 5, 6, 7, 8, 9, 10]\n",
    "\n",
    "# Create a new list to store the odd numbers\n",
    "new_list = []\n",
    "\n",
    "# Iterate over each number in the original list\n",
    "for num in my_list:\n",
    "    # Check if the number is odd\n",
    "    if num % 2 != 0:\n",
    "        # If odd, add it to the new list\n",
    "        new_list.append(num)\n",
    "\n",
    "# Print the resulting list of odd numbers\n",
    "print(\"Numbers after removing even numbers:\", new_list)\n"
   ]
  },
  {
   "cell_type": "code",
   "execution_count": 13,
   "id": "dcd26373",
   "metadata": {},
   "outputs": [
    {
     "name": "stdout",
     "output_type": "stream",
     "text": [
      "Odd numbers from the list: [1, 3, 5, 7, 9]\n"
     ]
    }
   ],
   "source": [
    "# Sample list\n",
    "my_list = [1, 2, 3, 4, 5, 6, 7, 8, 9, 10]\n",
    "\n",
    "# Create a new list to store the odd numbers\n",
    "odd_numbers = []\n",
    "\n",
    "# Iterate over each number in the original list\n",
    "for num in my_list:\n",
    "    # Check if the number is odd\n",
    "    if num % 2 != 0:\n",
    "        # If odd, add it to the new list\n",
    "        odd_numbers.append(num)\n",
    "\n",
    "# Print the resulting list of odd numbers\n",
    "print(\"Odd numbers from the list:\", odd_numbers)\n"
   ]
  },
  {
   "cell_type": "code",
   "execution_count": 14,
   "id": "b5d9a8d4",
   "metadata": {},
   "outputs": [
    {
     "name": "stdout",
     "output_type": "stream",
     "text": [
      "Resulting string: Hello World\n"
     ]
    }
   ],
   "source": [
    "# Sample list of characters\n",
    "char_list = ['H', 'e', 'l', 'l', 'o', ' ', 'W', 'o', 'r', 'l', 'd']\n",
    "\n",
    "# Convert the list of characters to a string using the join() method\n",
    "string_result = ''.join(char_list)\n",
    "\n",
    "# Print the resulting string\n",
    "print(\"Resulting string:\", string_result)\n"
   ]
  },
  {
   "cell_type": "code",
   "execution_count": 16,
   "id": "51402c61",
   "metadata": {},
   "outputs": [
    {
     "name": "stdout",
     "output_type": "stream",
     "text": [
      "Enter the item to find its index: 20\n",
      "Index of 20 is 1\n"
     ]
    }
   ],
   "source": [
    "# Sample list\n",
    "my_list = [10, 20, 30, 40, 50]\n",
    "\n",
    "# Prompt the user to enter the item to find its index\n",
    "item = int(input(\"Enter the item to find its index: \"))\n",
    "\n",
    "# Initialize a variable to store the index\n",
    "index = -1\n",
    "\n",
    "# Iterate over each element and its index in the list\n",
    "for i, value in enumerate(my_list):\n",
    "    if value == item:\n",
    "        # If the item is found, store its index and break the loop\n",
    "        index = i\n",
    "        break\n",
    "\n",
    "# Print the index of the item\n",
    "if index != -1:\n",
    "    print(\"Index of\", item, \"is\", index)\n",
    "else:\n",
    "    print(\"Item not found in the list.\")\n"
   ]
  },
  {
   "cell_type": "code",
   "execution_count": 17,
   "id": "4c45fbc5",
   "metadata": {},
   "outputs": [
    {
     "name": "stdout",
     "output_type": "stream",
     "text": [
      "Resulting list: [1, 2, 3, 4, 5, 6]\n"
     ]
    }
   ],
   "source": [
    "# First list\n",
    "list1 = [1, 2, 3]\n",
    "# Second list\n",
    "list2 = [4, 5, 6]\n",
    "\n",
    "# Adding the second list to the first list\n",
    "list1.extend(list2)\n",
    "\n",
    "# Print the resulting list\n",
    "print(\"Resulting list:\", list1)\n"
   ]
  },
  {
   "cell_type": "code",
   "execution_count": 18,
   "id": "758b75fa",
   "metadata": {},
   "outputs": [
    {
     "name": "stdout",
     "output_type": "stream",
     "text": [
      "Unique values: [1, 2, 3, 4, 5, 6]\n",
      "Number of unique values: 6\n",
      "Element frequency: Counter({1: 3, 2: 3, 3: 2, 4: 2, 5: 2, 6: 1})\n"
     ]
    }
   ],
   "source": [
    "from collections import Counter\n",
    "\n",
    "# Sample list\n",
    "my_list = [1, 2, 3, 4, 2, 3, 1, 5, 4, 6, 5, 2, 1]\n",
    "\n",
    "# Get unique values from the list\n",
    "unique_values = list(set(my_list))\n",
    "\n",
    "# Count the number of unique values\n",
    "num_unique_values = len(unique_values)\n",
    "\n",
    "# Calculate the frequency of each element using Counter\n",
    "frequency = Counter(my_list)\n",
    "\n",
    "# Print the unique values\n",
    "print(\"Unique values:\", unique_values)\n",
    "\n",
    "# Print the number of unique values\n",
    "print(\"Number of unique values:\", num_unique_values)\n",
    "\n",
    "# Print the frequency of each element\n",
    "print(\"Element frequency:\", frequency)\n"
   ]
  },
  {
   "cell_type": "code",
   "execution_count": 19,
   "id": "56a39d37",
   "metadata": {},
   "outputs": [
    {
     "name": "stdout",
     "output_type": "stream",
     "text": [
      "Elements with frequency greater than 2 : [1, 2]\n"
     ]
    }
   ],
   "source": [
    "from collections import Counter\n",
    "\n",
    "def extract_elements_with_frequency_greater_than_k(lst, k):\n",
    "    # Count the frequency of each element in the list\n",
    "    frequency = Counter(lst)\n",
    "\n",
    "    # Extract elements with frequency greater than k\n",
    "    result = [element for element, count in frequency.items() if count > k]\n",
    "\n",
    "    return result\n",
    "\n",
    "# Sample list\n",
    "my_list = [1, 2, 3, 2, 4, 1, 5, 4, 6, 2, 1]\n",
    "\n",
    "# Specify the value of k\n",
    "k = 2\n",
    "\n",
    "# Call the function to extract elements with frequency greater than k\n",
    "result_list = extract_elements_with_frequency_greater_than_k(my_list, k)\n",
    "\n",
    "# Print the resulting list\n",
    "print(\"Elements with frequency greater than\", k, \":\", result_list)\n"
   ]
  },
  {
   "cell_type": "code",
   "execution_count": 20,
   "id": "52ef1ae0",
   "metadata": {},
   "outputs": [
    {
     "name": "stdout",
     "output_type": "stream",
     "text": [
      "Reversed strings in the list: ['olleH', 'dlroW', 'nohtyP', 'gnimmargorP']\n"
     ]
    }
   ],
   "source": [
    "def reverse_strings_in_list(string_list):\n",
    "    # Reverse each string in the list\n",
    "    reversed_list = [string[::-1] for string in string_list]\n",
    "\n",
    "    return reversed_list\n",
    "\n",
    "# Sample string list\n",
    "my_list = ['Hello', 'World', 'Python', 'Programming']\n",
    "\n",
    "# Call the function to reverse the strings in the list\n",
    "reversed_list = reverse_strings_in_list(my_list)\n",
    "\n",
    "# Print the resulting reversed list\n",
    "print(\"Reversed strings in the list:\", reversed_list)\n"
   ]
  },
  {
   "cell_type": "markdown",
   "id": "c88fa068",
   "metadata": {},
   "source": [
    "# Dictionary\n"
   ]
  },
  {
   "cell_type": "code",
   "execution_count": 1,
   "id": "b2cfb2c6",
   "metadata": {},
   "outputs": [
    {
     "name": "stdout",
     "output_type": "stream",
     "text": [
      "Initial dictionary:\n",
      "{'names': ['Mango', 'Lemon'], 'color': ['yellow', 'green'], 'taste': ['sweet', 'sour']}\n",
      "\n",
      "Updated dictionary:\n",
      "{'names': ['Mango', 'Lemon', 'Apple'], 'color': ['yellow', 'green'], 'taste': ['sweet', 'sour']}\n"
     ]
    }
   ],
   "source": [
    "# Create the initial dictionary\n",
    "fruit = {\n",
    "    'names': ['Mango', 'Lemon'],\n",
    "    'color': ['yellow', 'green'],\n",
    "    'taste': ['sweet', 'sour']\n",
    "}\n",
    "\n",
    "# Display the dictionary\n",
    "print(\"Initial dictionary:\")\n",
    "print(fruit)\n",
    "\n",
    "# Add a new value to the 'names' key\n",
    "fruit['names'].append('Apple')\n",
    "\n",
    "# Display the updated dictionary\n",
    "print(\"\\nUpdated dictionary:\")\n",
    "print(fruit)\n"
   ]
  },
  {
   "cell_type": "code",
   "execution_count": 2,
   "id": "19582dc4",
   "metadata": {},
   "outputs": [
    {
     "name": "stdout",
     "output_type": "stream",
     "text": [
      "Original dictionary:\n",
      "{'name': 'John', 'age': 25}\n",
      "\n",
      "Updated dictionary:\n",
      "{'name': 'John', 'age': 25, 'city': 'New York'}\n"
     ]
    }
   ],
   "source": [
    "# Function to add a key to a dictionary\n",
    "def add_key(dictionary, key, value):\n",
    "    dictionary[key] = value\n",
    "\n",
    "# Create a dictionary\n",
    "my_dict = {'name': 'John', 'age': 25}\n",
    "\n",
    "# Print the original dictionary\n",
    "print(\"Original dictionary:\")\n",
    "print(my_dict)\n",
    "\n",
    "# Add a new key-value pair\n",
    "add_key(my_dict, 'city', 'New York')\n",
    "\n",
    "# Print the updated dictionary\n",
    "print(\"\\nUpdated dictionary:\")\n",
    "print(my_dict)\n"
   ]
  },
  {
   "cell_type": "code",
   "execution_count": 3,
   "id": "2e87f2dc",
   "metadata": {},
   "outputs": [
    {
     "name": "stdout",
     "output_type": "stream",
     "text": [
      "Enter a key to check: name\n",
      "The key exists in the dictionary.\n"
     ]
    }
   ],
   "source": [
    "# Function to check if a key exists in a dictionary\n",
    "def check_key(dictionary, key):\n",
    "    if key in dictionary:\n",
    "        return True\n",
    "    else:\n",
    "        return False\n",
    "\n",
    "# Create a dictionary\n",
    "my_dict = {'name': 'John', 'age': 25, 'city': 'New York'}\n",
    "\n",
    "# Prompt user to enter a key\n",
    "user_key = input(\"Enter a key to check: \")\n",
    "\n",
    "# Check if the key exists in the dictionary\n",
    "if check_key(my_dict, user_key):\n",
    "    print(\"The key exists in the dictionary.\")\n",
    "else:\n",
    "    print(\"The key does not exist in the dictionary.\")\n"
   ]
  },
  {
   "cell_type": "code",
   "execution_count": 5,
   "id": "e3a14472",
   "metadata": {},
   "outputs": [
    {
     "name": "stdout",
     "output_type": "stream",
     "text": [
      "Name: John\n",
      "Age: 25\n"
     ]
    }
   ],
   "source": [
    "# Create a dictionary\n",
    "my_dict = {'name': 'John', 'age': 25, 'city': 'New York'}\n",
    "\n",
    "# Access the value of a specific key\n",
    "name_value = my_dict['name']\n",
    "age_value = my_dict['age']\n",
    "\n",
    "# Print the values\n",
    "print(\"Name:\", name_value)\n",
    "print(\"Age:\", age_value)\n"
   ]
  },
  {
   "cell_type": "code",
   "execution_count": 6,
   "id": "81cd9c7b",
   "metadata": {},
   "outputs": [
    {
     "name": "stdout",
     "output_type": "stream",
     "text": [
      "name : John\n",
      "age : 25\n",
      "city : New York\n"
     ]
    }
   ],
   "source": [
    "# Create a dictionary\n",
    "my_dict = {'name': 'John', 'age': 25, 'city': 'New York'}\n",
    "\n",
    "# Iterate over the dictionary using a for loop\n",
    "for key in my_dict:\n",
    "    value = my_dict[key]\n",
    "    print(key, ':', value)\n"
   ]
  },
  {
   "cell_type": "code",
   "execution_count": 7,
   "id": "5f9eb986",
   "metadata": {},
   "outputs": [
    {
     "name": "stdout",
     "output_type": "stream",
     "text": [
      "Enter the value of n: 6\n",
      "Squared Dictionary:\n",
      "1 : 1\n",
      "2 : 4\n",
      "3 : 9\n",
      "4 : 16\n",
      "5 : 25\n",
      "6 : 36\n"
     ]
    }
   ],
   "source": [
    "# Function to create and print the dictionary\n",
    "def print_squared_dictionary(n):\n",
    "    squared_dict = {}  # Empty dictionary\n",
    "\n",
    "    # Generate the dictionary\n",
    "    for num in range(1, n+1):\n",
    "        squared_dict[num] = num**2\n",
    "\n",
    "    # Print the dictionary\n",
    "    for key, value in squared_dict.items():\n",
    "        print(key, ':', value)\n",
    "\n",
    "# Prompt the user to enter the value of n\n",
    "n = int(input(\"Enter the value of n: \"))\n",
    "\n",
    "# Print the squared dictionary\n",
    "print(\"Squared Dictionary:\")\n",
    "print_squared_dictionary(n)\n"
   ]
  },
  {
   "cell_type": "code",
   "execution_count": 8,
   "id": "e440a2a6",
   "metadata": {},
   "outputs": [
    {
     "name": "stdout",
     "output_type": "stream",
     "text": [
      "Extracted Dictionary:\n",
      "{'name': None, 'age': None, 'city': None}\n"
     ]
    }
   ],
   "source": [
    "# Function to extract keys and create a new dictionary\n",
    "def extract_keys(dictionary):\n",
    "    keys = list(dictionary.keys())\n",
    "    extracted_dict = {key: None for key in keys}\n",
    "    return extracted_dict\n",
    "\n",
    "# Given dictionary\n",
    "given_dict = {'name': 'John', 'age': 25, 'city': 'New York'}\n",
    "\n",
    "# Extract keys and create a new dictionary\n",
    "extracted_dict = extract_keys(given_dict)\n",
    "\n",
    "# Print the extracted dictionary\n",
    "print(\"Extracted Dictionary:\")\n",
    "print(extracted_dict)\n"
   ]
  },
  {
   "cell_type": "code",
   "execution_count": 9,
   "id": "e7a1d0cd",
   "metadata": {},
   "outputs": [
    {
     "name": "stdout",
     "output_type": "stream",
     "text": [
      "Original dictionary:\n",
      "{'name': 'John', 'age': 25, 'city': 'New York'}\n",
      "\n",
      "Updated dictionary:\n",
      "{'name': 'John', 'age': 25, 'location': 'New York'}\n"
     ]
    }
   ],
   "source": [
    "# Function to rename a key in a dictionary\n",
    "def rename_key(dictionary, old_key, new_key):\n",
    "    if old_key in dictionary:\n",
    "        dictionary[new_key] = dictionary.pop(old_key)\n",
    "\n",
    "# Create a dictionary\n",
    "my_dict = {'name': 'John', 'age': 25, 'city': 'New York'}\n",
    "\n",
    "# Print the original dictionary\n",
    "print(\"Original dictionary:\")\n",
    "print(my_dict)\n",
    "\n",
    "# Rename the key 'city' to 'location'\n",
    "rename_key(my_dict, 'city', 'location')\n",
    "\n",
    "# Print the updated dictionary\n",
    "print(\"\\nUpdated dictionary:\")\n",
    "print(my_dict)\n"
   ]
  },
  {
   "cell_type": "code",
   "execution_count": 10,
   "id": "28e26cdc",
   "metadata": {},
   "outputs": [
    {
     "name": "stdout",
     "output_type": "stream",
     "text": [
      "Keys of the dictionary:\n",
      "name\n",
      "age\n",
      "city\n"
     ]
    }
   ],
   "source": [
    "# Function to print keys of a dictionary\n",
    "def print_keys(dictionary):\n",
    "    for key in dictionary.keys():\n",
    "        print(key)\n",
    "\n",
    "# Create a dictionary\n",
    "my_dict = {'name': 'John', 'age': 25, 'city': 'New York'}\n",
    "\n",
    "# Print the keys of the dictionary\n",
    "print(\"Keys of the dictionary:\")\n",
    "print_keys(my_dict)\n"
   ]
  },
  {
   "cell_type": "code",
   "execution_count": 11,
   "id": "84d2ab8d",
   "metadata": {},
   "outputs": [
    {
     "name": "stdout",
     "output_type": "stream",
     "text": [
      "Values of the dictionary:\n",
      "John\n",
      "25\n",
      "New York\n"
     ]
    }
   ],
   "source": [
    "# Function to print values of a dictionary\n",
    "def print_values(dictionary):\n",
    "    for value in dictionary.values():\n",
    "        print(value)\n",
    "\n",
    "# Create a dictionary\n",
    "my_dict = {'name': 'John', 'age': 25, 'city': 'New York'}\n",
    "\n",
    "# Print the values of the dictionary\n",
    "print(\"Values of the dictionary:\")\n",
    "print_values(my_dict)\n"
   ]
  },
  {
   "cell_type": "markdown",
   "id": "642035b0",
   "metadata": {},
   "source": [
    "# Python: Loops"
   ]
  },
  {
   "cell_type": "code",
   "execution_count": 12,
   "id": "871f781e",
   "metadata": {},
   "outputs": [
    {
     "name": "stdout",
     "output_type": "stream",
     "text": [
      "1\n",
      "2\n",
      "3\n",
      "4\n",
      "5\n",
      "6\n",
      "7\n",
      "8\n",
      "9\n",
      "10\n"
     ]
    }
   ],
   "source": [
    "# Initialize a counter variable\n",
    "count = 1\n",
    "\n",
    "# Print the first 10 natural numbers\n",
    "while count <= 10:\n",
    "    print(count)\n",
    "    count += 1\n"
   ]
  },
  {
   "cell_type": "code",
   "execution_count": 13,
   "id": "03f6bf1b",
   "metadata": {},
   "outputs": [
    {
     "name": "stdout",
     "output_type": "stream",
     "text": [
      "Enter a number: 5\n",
      "Multiplication Table of 5:\n",
      "5 x 1 = 5\n",
      "5 x 2 = 10\n",
      "5 x 3 = 15\n",
      "5 x 4 = 20\n",
      "5 x 5 = 25\n",
      "5 x 6 = 30\n",
      "5 x 7 = 35\n",
      "5 x 8 = 40\n",
      "5 x 9 = 45\n",
      "5 x 10 = 50\n"
     ]
    }
   ],
   "source": [
    "# Function to print the multiplication table\n",
    "def print_multiplication_table(number):\n",
    "    print(f\"Multiplication Table of {number}:\")\n",
    "\n",
    "    # Iterate from 1 to 10\n",
    "    for i in range(1, 11):\n",
    "        result = number * i\n",
    "        print(f\"{number} x {i} = {result}\")\n",
    "\n",
    "# Prompt the user to enter a number\n",
    "number = int(input(\"Enter a number: \"))\n",
    "\n",
    "# Print the multiplication table\n",
    "print_multiplication_table(number)\n"
   ]
  },
  {
   "cell_type": "code",
   "execution_count": 14,
   "id": "1d1a500d",
   "metadata": {},
   "outputs": [
    {
     "name": "stdout",
     "output_type": "stream",
     "text": [
      "Numbers in the list:\n",
      "1\n",
      "2\n",
      "3\n",
      "4\n",
      "5\n"
     ]
    }
   ],
   "source": [
    "# Define a list of numbers\n",
    "numbers = [1, 2, 3, 4, 5]\n",
    "\n",
    "# Display the numbers using a loop\n",
    "print(\"Numbers in the list:\")\n",
    "for number in numbers:\n",
    "    print(number)\n"
   ]
  },
  {
   "cell_type": "code",
   "execution_count": 15,
   "id": "c9dcf4a4",
   "metadata": {},
   "outputs": [
    {
     "name": "stdout",
     "output_type": "stream",
     "text": [
      "List in reverse order:\n",
      "5\n",
      "4\n",
      "3\n",
      "2\n",
      "1\n"
     ]
    }
   ],
   "source": [
    "# Define a list of numbers\n",
    "numbers = [1, 2, 3, 4, 5]\n",
    "\n",
    "# Print the list in reverse order using a loop\n",
    "print(\"List in reverse order:\")\n",
    "for i in range(len(numbers) - 1, -1, -1):\n",
    "    print(numbers[i])\n"
   ]
  },
  {
   "cell_type": "code",
   "execution_count": 16,
   "id": "5cbcdc63",
   "metadata": {},
   "outputs": [
    {
     "name": "stdout",
     "output_type": "stream",
     "text": [
      "Numbers from -10 to -1:\n",
      "-10\n",
      "-9\n",
      "-8\n",
      "-7\n",
      "-6\n",
      "-5\n",
      "-4\n",
      "-3\n",
      "-2\n",
      "-1\n"
     ]
    }
   ],
   "source": [
    "# Display numbers from -10 to -1 using a for loop\n",
    "print(\"Numbers from -10 to -1:\")\n",
    "for number in range(-10, 0):\n",
    "    print(number)\n"
   ]
  },
  {
   "cell_type": "code",
   "execution_count": 17,
   "id": "0fd25492",
   "metadata": {},
   "outputs": [
    {
     "name": "stdout",
     "output_type": "stream",
     "text": [
      "Enter a number: 4\n",
      "Factorial of 4 is: 24\n"
     ]
    }
   ],
   "source": [
    "# Function to calculate the factorial of a number\n",
    "def factorial(n):\n",
    "    if n == 0:\n",
    "        return 1\n",
    "    else:\n",
    "        return n * factorial(n - 1)\n",
    "\n",
    "# Prompt the user to enter a number\n",
    "number = int(input(\"Enter a number: \"))\n",
    "\n",
    "# Calculate the factorial of the number\n",
    "result = factorial(number)\n",
    "\n",
    "# Print the factorial\n",
    "print(\"Factorial of\", number, \"is:\", result)\n"
   ]
  },
  {
   "cell_type": "code",
   "execution_count": 18,
   "id": "d6002dbf",
   "metadata": {},
   "outputs": [
    {
     "name": "stdout",
     "output_type": "stream",
     "text": [
      "Elements at odd index positions:\n",
      "2\n",
      "4\n",
      "6\n",
      "8\n",
      "10\n"
     ]
    }
   ],
   "source": [
    "# Function to display elements at odd index positions\n",
    "def display_odd_index_elements(lst):\n",
    "    print(\"Elements at odd index positions:\")\n",
    "    for i in range(1, len(lst), 2):\n",
    "        print(lst[i])\n",
    "\n",
    "# Define a list of elements\n",
    "my_list = [1, 2, 3, 4, 5, 6, 7, 8, 9, 10]\n",
    "\n",
    "# Call the function to display elements at odd index positions\n",
    "display_odd_index_elements(my_list)\n"
   ]
  },
  {
   "cell_type": "code",
   "execution_count": 19,
   "id": "66bdac95",
   "metadata": {},
   "outputs": [
    {
     "name": "stdout",
     "output_type": "stream",
     "text": [
      "Enter a number: 4\n",
      "Cubes of numbers from 1 to 4 are:\n",
      "Cube of 1 is 1\n",
      "Cube of 2 is 8\n",
      "Cube of 3 is 27\n",
      "Cube of 4 is 64\n"
     ]
    }
   ],
   "source": [
    "# Function to calculate the cube of numbers from 1 to n\n",
    "def calculate_cube(n):\n",
    "    cubes = []\n",
    "    for num in range(1, n + 1):\n",
    "        cube = num ** 3\n",
    "        cubes.append(cube)\n",
    "    return cubes\n",
    "\n",
    "# Prompt the user to enter a number\n",
    "number = int(input(\"Enter a number: \"))\n",
    "\n",
    "# Calculate the cube of numbers from 1 to the given number\n",
    "cubes = calculate_cube(number)\n",
    "\n",
    "# Print the cubes\n",
    "print(\"Cubes of numbers from 1 to\", number, \"are:\")\n",
    "for index, cube in enumerate(cubes, start=1):\n",
    "    print(\"Cube of\", index, \"is\", cube)\n"
   ]
  },
  {
   "cell_type": "markdown",
   "id": "2b0971a3",
   "metadata": {},
   "source": [
    "# Python : user defined function"
   ]
  },
  {
   "cell_type": "code",
   "execution_count": 20,
   "id": "c57ea331",
   "metadata": {},
   "outputs": [
    {
     "name": "stdout",
     "output_type": "stream",
     "text": [
      "Unique digits in class ID: ['0', '1', '2', '3', '4', '5', '6', '7', '8', '9']\n"
     ]
    }
   ],
   "source": [
    "def get_unique_digits(class_id):\n",
    "    unique_digits = list(set(str(class_id)))\n",
    "    unique_digits.sort()\n",
    "    return unique_digits\n",
    "\n",
    "# Example usage:\n",
    "class_id = 1234567890\n",
    "unique_digits = get_unique_digits(class_id)\n",
    "print(\"Unique digits in class ID:\", unique_digits)\n"
   ]
  },
  {
   "cell_type": "code",
   "execution_count": null,
   "id": "51514339",
   "metadata": {},
   "outputs": [],
   "source": []
  }
 ],
 "metadata": {
  "kernelspec": {
   "display_name": "Python 3 (ipykernel)",
   "language": "python",
   "name": "python3"
  },
  "language_info": {
   "codemirror_mode": {
    "name": "ipython",
    "version": 3
   },
   "file_extension": ".py",
   "mimetype": "text/x-python",
   "name": "python",
   "nbconvert_exporter": "python",
   "pygments_lexer": "ipython3",
   "version": "3.10.9"
  }
 },
 "nbformat": 4,
 "nbformat_minor": 5
}
